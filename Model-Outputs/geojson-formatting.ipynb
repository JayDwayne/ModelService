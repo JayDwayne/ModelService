{
 "cells": [
  {
   "cell_type": "code",
   "execution_count": 5,
   "metadata": {},
   "outputs": [],
   "source": [
    "import geopandas as gpd\n",
    "import json\n",
    "from shapely.ops import nearest_points\n",
    "import pandas as pd\n",
    "import fiona\n",
    "from shapely.geometry import shape,mapping, Point, Polygon, MultiPolygon\n",
    "from shapely.ops import cascaded_union"
   ]
  },
  {
   "cell_type": "code",
   "execution_count": 69,
   "metadata": {},
   "outputs": [],
   "source": [
    "admin2 = gpd.read_file('gadm36_ETH_shp/gadm36_ETH_3.shp')\n",
    "admin2['Gadm Name 2'] = admin2['NAME_2']\n",
    "admin2['Gadm Name 1'] = admin2['NAME_1']"
   ]
  },
  {
   "cell_type": "code",
   "execution_count": 70,
   "metadata": {},
   "outputs": [
    {
     "data": {
      "text/plain": [
       "Gadm Name 1\n",
       "Addis Abeba                                     10\n",
       "Afar                                            32\n",
       "Amhara                                         129\n",
       "Benshangul-Gumaz                                20\n",
       "Dire Dawa                                        2\n",
       "Gambela Peoples                                 13\n",
       "Harari People                                    1\n",
       "Oromia                                         260\n",
       "Somali                                          53\n",
       "Southern Nations, Nationalities and Peoples    136\n",
       "Tigray                                          34\n",
       "Name: NAME_2, dtype: int64"
      ]
     },
     "execution_count": 70,
     "metadata": {},
     "output_type": "execute_result"
    }
   ],
   "source": [
    "admin2.groupby(['Gadm Name 1'])['NAME_2'].count()"
   ]
  },
  {
   "cell_type": "code",
   "execution_count": 71,
   "metadata": {},
   "outputs": [],
   "source": [
    "pts3 = admin2.centroid.unary_union"
   ]
  },
  {
   "cell_type": "code",
   "execution_count": 81,
   "metadata": {},
   "outputs": [],
   "source": [
    "from shapely.ops import nearest_points\n",
    "# unary union of the gpd2 geomtries \n",
    "\n",
    "def near(point, pts=pts3):\n",
    "     # find the nearest point and return the corresponding Place value\n",
    "    nearest = admin2.centroid == nearest_points(point, pts)[1]\n",
    "    return admin2[nearest]['Gadm Name 2'].get_values()[0]\n",
    "\n",
    "\n",
    "def near_gadm1(geom, pts=pts3):\n",
    "    if geom.type == Polygon:\n",
    "        point = geom.centroid\n",
    "    else:\n",
    "        point = geom\n",
    "     # find the nearest point and return the corresponding Place value\n",
    "    nearest = admin2.centroid == nearest_points(point, pts)[1]\n",
    "    return admin2[nearest]['Gadm Name 1'].get_values()[0]"
   ]
  },
  {
   "cell_type": "code",
   "execution_count": 5,
   "metadata": {},
   "outputs": [],
   "source": [
    "maln = gpd.read_file('malnutrition_eth.geojson' )\n",
    "pop = gpd.read_file(\"population_ETH_2018.geojson\")\n",
    "travel = gpd.read_file(\"travel_time.geojson\")"
   ]
  },
  {
   "cell_type": "code",
   "execution_count": 6,
   "metadata": {},
   "outputs": [],
   "source": [
    "flood = pd.read_csv('flood-model.csv')\n",
    "flood = gpd.GeoDataFrame(\n",
    "    flood, geometry=gpd.points_from_xy(flood.longitude, flood.latitude))"
   ]
  },
  {
   "cell_type": "code",
   "execution_count": 7,
   "metadata": {},
   "outputs": [],
   "source": [
    "chirps = pd.read_csv('CHIRPS-combined.csv')\n",
    "\n",
    "chirps = gpd.GeoDataFrame(\n",
    "    chirps, geometry=gpd.points_from_xy(chirps.longitude, chirps.latitude))"
   ]
  },
  {
   "cell_type": "code",
   "execution_count": 8,
   "metadata": {},
   "outputs": [],
   "source": [
    "pop = pop[pop['Population']>0]"
   ]
  },
  {
   "cell_type": "code",
   "execution_count": 9,
   "metadata": {},
   "outputs": [],
   "source": [
    "maln['centroid']=maln.geometry.apply(lambda x: x.centroid)\n",
    "pop['centroid']=pop.geometry.apply(lambda x: x.centroid)\n",
    "admin2['centroid']=admin2.geometry.apply(lambda x: x.centroid)"
   ]
  },
  {
   "cell_type": "code",
   "execution_count": 10,
   "metadata": {},
   "outputs": [],
   "source": [
    "pop['Gadm Name 2'] = pop.apply(lambda row: near(row.centroid), axis=1)\n",
    "maln['Gadm Name 2'] = maln.apply(lambda row: near(row.centroid), axis=1)\n",
    "\n",
    "# for Flood and CHIRPS, just use geometry, not centroid since these are just points not shapes\n",
    "flood['Gadm Name 2'] = flood.apply(lambda row: near(row.geometry), axis=1)\n",
    "chirps['Gadm Name 2'] = chirps.apply(lambda row: near(row.geometry), axis=1)"
   ]
  },
  {
   "cell_type": "code",
   "execution_count": 11,
   "metadata": {},
   "outputs": [],
   "source": [
    "del(pop['centroid'])\n",
    "del(maln['centroid'])"
   ]
  },
  {
   "cell_type": "code",
   "execution_count": 12,
   "metadata": {},
   "outputs": [],
   "source": [
    "pop.to_file(\"pop_ETH.geojson\", driver=\"GeoJSON\")\n",
    "maln.to_file(\"maln_ETH.geojson\", driver=\"GeoJSON\")\n",
    "flood.to_file(\"flood_ETH.geojson\", driver=\"GeoJSON\")\n",
    "chirps.to_file(\"CHIRPS_combined.geojson\", driver=\"GeoJSON\")"
   ]
  },
  {
   "cell_type": "markdown",
   "metadata": {},
   "source": [
    "### Post processing CHIRPS to handle data outside Ethiopia"
   ]
  },
  {
   "cell_type": "code",
   "execution_count": 36,
   "metadata": {},
   "outputs": [],
   "source": [
    "c = gpd.read_file(\"CHIRPS_combined.geojson\")"
   ]
  },
  {
   "cell_type": "markdown",
   "metadata": {},
   "source": [
    "Here we read in the Ethiopia shape, merge it to one large polygon, and detect points which are within Ethiopia.\n",
    "\n",
    "We have to do this because our prior processing mapped a GADM 2 admin to every point, even those in South Sudan."
   ]
  },
  {
   "cell_type": "code",
   "execution_count": 58,
   "metadata": {
    "scrolled": true
   },
   "outputs": [],
   "source": [
    "polys = []\n",
    "multipol = fiona.open(\"gadm36_ETH_shp/gadm36_ETH_1.shp\")\n",
    "for n in multipol:\n",
    "    polys.append(Polygon(n['geometry']['coordinates'][0]))\n",
    "    \n",
    "u = cascaded_union(polys)"
   ]
  },
  {
   "cell_type": "code",
   "execution_count": 61,
   "metadata": {},
   "outputs": [],
   "source": [
    "c['Ethiopia'] = c.geometry.apply(lambda x: x.within(u))"
   ]
  },
  {
   "cell_type": "code",
   "execution_count": 62,
   "metadata": {},
   "outputs": [
    {
     "data": {
      "text/plain": [
       "Ethiopia\n",
       "False    349067\n",
       "True     117668\n",
       "Name: geometry, dtype: int64"
      ]
     },
     "execution_count": 62,
     "metadata": {},
     "output_type": "execute_result"
    }
   ],
   "source": [
    "c.groupby(['Ethiopia']).geometry.count()"
   ]
  },
  {
   "cell_type": "code",
   "execution_count": 64,
   "metadata": {},
   "outputs": [],
   "source": [
    "def get_gadm(row): \n",
    "    if row.Ethiopia == True:\n",
    "        return row['Gadm Name 2']\n",
    "    else:\n",
    "        return None"
   ]
  },
  {
   "cell_type": "code",
   "execution_count": 67,
   "metadata": {},
   "outputs": [],
   "source": [
    "c['Gadm ETH'] = c.apply(lambda x: get_gadm(x), axis=1)"
   ]
  },
  {
   "cell_type": "code",
   "execution_count": 71,
   "metadata": {},
   "outputs": [],
   "source": [
    "c['Gadm Name 2'] = c['Gadm ETH']"
   ]
  },
  {
   "cell_type": "code",
   "execution_count": 72,
   "metadata": {},
   "outputs": [],
   "source": [
    "c.to_file(\"CHIRPS_combined.geojson\", driver=\"GeoJSON\")"
   ]
  },
  {
   "cell_type": "markdown",
   "metadata": {},
   "source": [
    "## Processing DSSAT"
   ]
  },
  {
   "cell_type": "code",
   "execution_count": 87,
   "metadata": {},
   "outputs": [],
   "source": [
    "dssat = pd.read_csv('dssat_combined.csv')\n",
    "\n",
    "dssat = gpd.GeoDataFrame(\n",
    "    dssat, geometry=gpd.points_from_xy(dssat.LONGITUDE, dssat.LATITUDE))"
   ]
  },
  {
   "cell_type": "code",
   "execution_count": 88,
   "metadata": {},
   "outputs": [
    {
     "data": {
      "text/plain": [
       "(51843, 15)"
      ]
     },
     "execution_count": 88,
     "metadata": {},
     "output_type": "execute_result"
    }
   ],
   "source": [
    "dssat.shape"
   ]
  },
  {
   "cell_type": "code",
   "execution_count": 90,
   "metadata": {},
   "outputs": [],
   "source": [
    "dssat['Gadm Name 2'] = dssat.apply(lambda row: near(row.geometry), axis=1)"
   ]
  },
  {
   "cell_type": "code",
   "execution_count": 5,
   "metadata": {},
   "outputs": [],
   "source": [
    "dssat['Year'] = dssat.HDAT.apply(lambda x: int(str(x)[:4]))"
   ]
  },
  {
   "cell_type": "code",
   "execution_count": 91,
   "metadata": {},
   "outputs": [],
   "source": [
    "dssat.to_file(\"dssat.geojson\", driver=\"GeoJSON\")"
   ]
  },
  {
   "cell_type": "markdown",
   "metadata": {},
   "source": [
    "## Admin Level 1\n",
    "Add back in admin level 1 (State) to all files"
   ]
  },
  {
   "cell_type": "code",
   "execution_count": 30,
   "metadata": {},
   "outputs": [],
   "source": [
    "admin1 = admin2[['NAME_2','NAME_1']].drop_duplicates().set_index(\"NAME_2\")"
   ]
  },
  {
   "cell_type": "code",
   "execution_count": 55,
   "metadata": {},
   "outputs": [],
   "source": [
    "def find_admin1(admin2):\n",
    "    if admin2==None:\n",
    "        return \"Null\"\n",
    "    else:\n",
    "        return str(admin1.loc[admin2].NAME_1)"
   ]
  },
  {
   "cell_type": "code",
   "execution_count": 56,
   "metadata": {},
   "outputs": [
    {
     "data": {
      "text/plain": [
       "'NAME_2\\nNorth Shewa    Amhara\\nNorth Shewa    Oromia\\nName: NAME_1, dtype: object'"
      ]
     },
     "execution_count": 56,
     "metadata": {},
     "output_type": "execute_result"
    }
   ],
   "source": [
    "find_admin1(\"North Shewa\")"
   ]
  },
  {
   "cell_type": "code",
   "execution_count": 8,
   "metadata": {},
   "outputs": [],
   "source": [
    "pop = gpd.read_file(\"pop_ETH.geojson\")\n",
    "maln = gpd.read_file(\"maln_ETH.geojson\")\n",
    "flood = gpd.read_file(\"flood_ETH.geojson\")\n",
    "chirps = gpd.read_file(\"CHIRPS_combined.geojson\")\n",
    "dssat = gpd.read_file(\"dssat.geojson\")"
   ]
  },
  {
   "cell_type": "code",
   "execution_count": 51,
   "metadata": {},
   "outputs": [],
   "source": [
    "pop['Gadm Name 1'] = pop['Gadm Name 2'].apply(lambda x: find_admin1(x))\n",
    "maln['Gadm Name 1'] = maln['Gadm Name 2'].apply(lambda x: find_admin1(x))\n",
    "flood['Gadm Name 1'] = flood['Gadm Name 2'].apply(lambda x: find_admin1(x))\n",
    "chirps['Gadm Name 1'] = chirps['Gadm Name 2'].apply(lambda x: find_admin1(x))\n",
    "dssat['Gadm Name 1'] = dssat['Gadm Name 2'].apply(lambda x: find_admin1(x))"
   ]
  },
  {
   "cell_type": "markdown",
   "metadata": {},
   "source": [
    "Reprocess nearest gadm for North Shewa since it exists in Oromia and Amhara; can't do a simple lookup!\n",
    "\n",
    "Exclude flood model since it doesn't have points in North Shewa of either Region"
   ]
  },
  {
   "cell_type": "code",
   "execution_count": 100,
   "metadata": {
    "scrolled": true
   },
   "outputs": [],
   "source": [
    "dssat.loc[dssat['Gadm Name 2']=='North Shewa', 'Gadm Name 1'] = dssat[dssat['Gadm Name 2']=='North Shewa']\\\n",
    "                                                            .geometry.apply(lambda x: near_gadm1(x))\n",
    "\n",
    "chirps.loc[chirps['Gadm Name 2']=='North Shewa', 'Gadm Name 1'] = chirps[chirps['Gadm Name 2']=='North Shewa']\\\n",
    "                                                            .geometry.apply(lambda x: near_gadm1(x))\n",
    "\n",
    "pop.loc[pop['Gadm Name 2']=='North Shewa', 'Gadm Name 1'] = pop[pop['Gadm Name 2']=='North Shewa']\\\n",
    "                                                            .geometry.apply(lambda x: near_gadm1(x))\n",
    "\n",
    "maln.loc[maln['Gadm Name 2']=='North Shewa', 'Gadm Name 1'] = maln[maln['Gadm Name 2']=='North Shewa']\\\n",
    "                                                            .geometry.apply(lambda x: near_gadm1(x))"
   ]
  },
  {
   "cell_type": "code",
   "execution_count": 106,
   "metadata": {},
   "outputs": [],
   "source": [
    "pop.to_file(\"pop_ETH.geojson\", driver=\"GeoJSON\")\n",
    "maln.to_file(\"maln_ETH.geojson\", driver=\"GeoJSON\")\n",
    "flood.to_file(\"flood_ETH.geojson\", driver=\"GeoJSON\")\n",
    "chirps.to_file(\"CHIRPS_combined.geojson\", driver=\"GeoJSON\")\n",
    "dssat.to_file(\"dssat.geojson\", driver=\"GeoJSON\")"
   ]
  }
 ],
 "metadata": {
  "kernelspec": {
   "display_name": "Python 3",
   "language": "python",
   "name": "python3"
  },
  "language_info": {
   "codemirror_mode": {
    "name": "ipython",
    "version": 3
   },
   "file_extension": ".py",
   "mimetype": "text/x-python",
   "name": "python",
   "nbconvert_exporter": "python",
   "pygments_lexer": "ipython3",
   "version": "3.7.3"
  }
 },
 "nbformat": 4,
 "nbformat_minor": 2
}
