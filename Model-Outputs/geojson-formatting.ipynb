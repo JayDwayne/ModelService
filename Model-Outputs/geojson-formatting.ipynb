{
 "cells": [
  {
   "cell_type": "code",
   "execution_count": 41,
   "metadata": {},
   "outputs": [],
   "source": [
    "import geopandas as gpd\n",
    "import json\n",
    "from shapely.ops import nearest_points\n",
    "import pandas as pd\n",
    "import fiona\n",
    "from shapely.geometry import shape,mapping, Point, Polygon, MultiPolygon\n",
    "from shapely.ops import cascaded_union"
   ]
  },
  {
   "cell_type": "code",
   "execution_count": 2,
   "metadata": {},
   "outputs": [],
   "source": [
    "admin2 = gpd.read_file('gadm36_ETH_shp/gadm36_ETH_3.shp')\n",
    "admin2['Gadm Name 2'] = admin2['NAME_2']"
   ]
  },
  {
   "cell_type": "code",
   "execution_count": 3,
   "metadata": {},
   "outputs": [],
   "source": [
    "pts3 = admin2.centroid.unary_union"
   ]
  },
  {
   "cell_type": "code",
   "execution_count": 4,
   "metadata": {},
   "outputs": [],
   "source": [
    "from shapely.ops import nearest_points\n",
    "# unary union of the gpd2 geomtries \n",
    "\n",
    "def near(point, pts=pts3):\n",
    "     # find the nearest point and return the corresponding Place value\n",
    "    nearest = admin2.centroid == nearest_points(point, pts)[1]\n",
    "    return admin2[nearest]['Gadm Name 2'].get_values()[0]"
   ]
  },
  {
   "cell_type": "code",
   "execution_count": 5,
   "metadata": {},
   "outputs": [],
   "source": [
    "maln = gpd.read_file('malnutrition_eth.geojson' )\n",
    "pop = gpd.read_file(\"population_ETH_2018.geojson\")\n",
    "travel = gpd.read_file(\"travel_time.geojson\")"
   ]
  },
  {
   "cell_type": "code",
   "execution_count": 6,
   "metadata": {},
   "outputs": [],
   "source": [
    "flood = pd.read_csv('flood-model.csv')\n",
    "flood = gpd.GeoDataFrame(\n",
    "    flood, geometry=gpd.points_from_xy(flood.longitude, flood.latitude))"
   ]
  },
  {
   "cell_type": "code",
   "execution_count": 7,
   "metadata": {},
   "outputs": [],
   "source": [
    "chirps = pd.read_csv('CHIRPS-combined.csv')\n",
    "\n",
    "chirps = gpd.GeoDataFrame(\n",
    "    chirps, geometry=gpd.points_from_xy(chirps.longitude, chirps.latitude))"
   ]
  },
  {
   "cell_type": "code",
   "execution_count": 8,
   "metadata": {},
   "outputs": [],
   "source": [
    "pop = pop[pop['Population']>0]"
   ]
  },
  {
   "cell_type": "code",
   "execution_count": 9,
   "metadata": {},
   "outputs": [],
   "source": [
    "maln['centroid']=maln.geometry.apply(lambda x: x.centroid)\n",
    "pop['centroid']=pop.geometry.apply(lambda x: x.centroid)\n",
    "admin2['centroid']=admin2.geometry.apply(lambda x: x.centroid)"
   ]
  },
  {
   "cell_type": "code",
   "execution_count": 10,
   "metadata": {},
   "outputs": [],
   "source": [
    "pop['Gadm Name 2'] = pop.apply(lambda row: near(row.centroid), axis=1)\n",
    "maln['Gadm Name 2'] = maln.apply(lambda row: near(row.centroid), axis=1)\n",
    "\n",
    "# for Flood and CHIRPS, just use geometry, not centroid since these are just points not shapes\n",
    "flood['Gadm Name 2'] = flood.apply(lambda row: near(row.geometry), axis=1)\n",
    "chirps['Gadm Name 2'] = chirps.apply(lambda row: near(row.geometry), axis=1)"
   ]
  },
  {
   "cell_type": "code",
   "execution_count": 11,
   "metadata": {},
   "outputs": [],
   "source": [
    "del(pop['centroid'])\n",
    "del(maln['centroid'])"
   ]
  },
  {
   "cell_type": "code",
   "execution_count": 12,
   "metadata": {},
   "outputs": [],
   "source": [
    "pop.to_file(\"pop_ETH.geojson\", driver=\"GeoJSON\")\n",
    "maln.to_file(\"maln_ETH.geojson\", driver=\"GeoJSON\")\n",
    "flood.to_file(\"flood_ETH.geojson\", driver=\"GeoJSON\")\n",
    "chirps.to_file(\"CHIRPS_combined.geojson\", driver=\"GeoJSON\")"
   ]
  },
  {
   "cell_type": "markdown",
   "metadata": {},
   "source": [
    "### Post processing CHIRPS to handle data outside Ethiopia"
   ]
  },
  {
   "cell_type": "code",
   "execution_count": 36,
   "metadata": {},
   "outputs": [],
   "source": [
    "c = gpd.read_file(\"CHIRPS_combined.geojson\")"
   ]
  },
  {
   "cell_type": "markdown",
   "metadata": {},
   "source": [
    "Here we read in the Ethiopia shape, merge it to one large polygon, and detect points which are within Ethiopia.\n",
    "\n",
    "We have to do this because our prior processing mapped a GADM 2 admin to every point, even those in South Sudan."
   ]
  },
  {
   "cell_type": "code",
   "execution_count": 58,
   "metadata": {
    "scrolled": true
   },
   "outputs": [],
   "source": [
    "polys = []\n",
    "multipol = fiona.open(\"gadm36_ETH_shp/gadm36_ETH_1.shp\")\n",
    "for n in multipol:\n",
    "    polys.append(Polygon(n['geometry']['coordinates'][0]))\n",
    "    \n",
    "u = cascaded_union(polys)"
   ]
  },
  {
   "cell_type": "code",
   "execution_count": 61,
   "metadata": {},
   "outputs": [],
   "source": [
    "c['Ethiopia'] = c.geometry.apply(lambda x: x.within(u))"
   ]
  },
  {
   "cell_type": "code",
   "execution_count": 62,
   "metadata": {},
   "outputs": [
    {
     "data": {
      "text/plain": [
       "Ethiopia\n",
       "False    349067\n",
       "True     117668\n",
       "Name: geometry, dtype: int64"
      ]
     },
     "execution_count": 62,
     "metadata": {},
     "output_type": "execute_result"
    }
   ],
   "source": [
    "c.groupby(['Ethiopia']).geometry.count()"
   ]
  },
  {
   "cell_type": "code",
   "execution_count": 64,
   "metadata": {},
   "outputs": [],
   "source": [
    "def get_gadm(row): \n",
    "    if row.Ethiopia == True:\n",
    "        return row['Gadm Name 2']\n",
    "    else:\n",
    "        return None"
   ]
  },
  {
   "cell_type": "code",
   "execution_count": 67,
   "metadata": {},
   "outputs": [],
   "source": [
    "c['Gadm ETH'] = c.apply(lambda x: get_gadm(x), axis=1)"
   ]
  },
  {
   "cell_type": "code",
   "execution_count": 71,
   "metadata": {},
   "outputs": [],
   "source": [
    "c['Gadm Name 2'] = c['Gadm ETH']"
   ]
  },
  {
   "cell_type": "code",
   "execution_count": 72,
   "metadata": {},
   "outputs": [],
   "source": [
    "c.to_file(\"CHIRPS_combined.geojson\", driver=\"GeoJSON\")"
   ]
  }
 ],
 "metadata": {
  "kernelspec": {
   "display_name": "Python 3",
   "language": "python",
   "name": "python3"
  },
  "language_info": {
   "codemirror_mode": {
    "name": "ipython",
    "version": 3
   },
   "file_extension": ".py",
   "mimetype": "text/x-python",
   "name": "python",
   "nbconvert_exporter": "python",
   "pygments_lexer": "ipython3",
   "version": "3.7.3"
  }
 },
 "nbformat": 4,
 "nbformat_minor": 2
}
