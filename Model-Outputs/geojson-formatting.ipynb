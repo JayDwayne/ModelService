{
 "cells": [
  {
   "cell_type": "code",
   "execution_count": 40,
   "metadata": {},
   "outputs": [],
   "source": [
    "import geopandas as gpd\n",
    "import json\n",
    "from shapely.ops import nearest_points\n",
    "import pandas as pd"
   ]
  },
  {
   "cell_type": "code",
   "execution_count": 41,
   "metadata": {},
   "outputs": [],
   "source": [
    "admin2 = gpd.read_file('gadm36_ETH_shp/gadm36_ETH_3.shp')\n",
    "admin2['Gadm Name 2'] = admin2['NAME_2']"
   ]
  },
  {
   "cell_type": "code",
   "execution_count": 42,
   "metadata": {},
   "outputs": [],
   "source": [
    "pts3 = admin2.centroid.unary_union"
   ]
  },
  {
   "cell_type": "code",
   "execution_count": 43,
   "metadata": {},
   "outputs": [],
   "source": [
    "from shapely.ops import nearest_points\n",
    "# unary union of the gpd2 geomtries \n",
    "\n",
    "def near(point, pts=pts3):\n",
    "     # find the nearest point and return the corresponding Place value\n",
    "    nearest = admin2.centroid == nearest_points(point, pts)[1]\n",
    "    return admin2[nearest]['Gadm Name 2'].get_values()[0]"
   ]
  },
  {
   "cell_type": "code",
   "execution_count": 44,
   "metadata": {},
   "outputs": [],
   "source": [
    "maln = gpd.read_file('malnutrition_eth.geojson' )\n",
    "pop = gpd.read_file(\"population_ETH_2018.geojson\")\n",
    "travel = gpd.read_file(\"travel_time.geojson\")"
   ]
  },
  {
   "cell_type": "code",
   "execution_count": 45,
   "metadata": {},
   "outputs": [],
   "source": [
    "flood = pd.read_csv('flood-model.csv')\n",
    "flood = gpd.GeoDataFrame(\n",
    "    flood, geometry=gpd.points_from_xy(flood.longitude, flood.latitude))"
   ]
  },
  {
   "cell_type": "code",
   "execution_count": 46,
   "metadata": {},
   "outputs": [],
   "source": [
    "pop = pop[pop['Population']>0]"
   ]
  },
  {
   "cell_type": "code",
   "execution_count": 47,
   "metadata": {},
   "outputs": [],
   "source": [
    "maln['centroid']=maln.geometry.apply(lambda x: x.centroid)\n",
    "pop['centroid']=pop.geometry.apply(lambda x: x.centroid)\n",
    "admin2['centroid']=admin2.geometry.apply(lambda x: x.centroid)"
   ]
  },
  {
   "cell_type": "code",
   "execution_count": 48,
   "metadata": {},
   "outputs": [],
   "source": [
    "pop['Gadm Name 2'] = pop.apply(lambda row: near(row.centroid), axis=1)\n",
    "maln['Gadm Name 2'] = maln.apply(lambda row: near(row.centroid), axis=1)\n",
    "\n",
    "# for Flood, just use geometry, not centroid since these are just points not shapes\n",
    "flood['Gadm Name 2'] = flood.apply(lambda row: near(row.geometry), axis=1)"
   ]
  },
  {
   "cell_type": "code",
   "execution_count": 49,
   "metadata": {},
   "outputs": [],
   "source": [
    "del(pop['centroid'])\n",
    "del(maln['centroid'])"
   ]
  },
  {
   "cell_type": "code",
   "execution_count": 52,
   "metadata": {},
   "outputs": [],
   "source": [
    "pop.to_file(\"pop_ETH.geojson\", driver=\"GeoJSON\")\n",
    "maln.to_file(\"maln_ETH.geojson\", driver=\"GeoJSON\")\n",
    "flood.to_file(\"flood_ETH.geojson\", driver=\"GeoJSON\")"
   ]
  }
 ],
 "metadata": {
  "kernelspec": {
   "display_name": "Python 3",
   "language": "python",
   "name": "python3"
  },
  "language_info": {
   "codemirror_mode": {
    "name": "ipython",
    "version": 3
   },
   "file_extension": ".py",
   "mimetype": "text/x-python",
   "name": "python",
   "nbconvert_exporter": "python",
   "pygments_lexer": "ipython3",
   "version": "3.7.3"
  }
 },
 "nbformat": 4,
 "nbformat_minor": 2
}
