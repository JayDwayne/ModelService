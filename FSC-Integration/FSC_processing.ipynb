{
 "cells": [
  {
   "cell_type": "code",
   "execution_count": 2,
   "metadata": {},
   "outputs": [
    {
     "name": "stdout",
     "output_type": "stream",
     "text": [
      "postgres\n"
     ]
    }
   ],
   "source": [
    "import sys\n",
    "import os\n",
    "import warnings\n",
    "sys.path.append(\"../db\")\n",
    "\n",
    "if not sys.warnoptions:\n",
    "    warnings.simplefilter(\"ignore\")\n",
    "\n",
    "from database import init_db, db_session\n",
    "from models import Metadata, Output, Parameters\n",
    "\n",
    "import pandas as pd\n",
    "import geopandas as gpd\n",
    "import numpy as np\n",
    "import shapely.geometry\n",
    "import json\n",
    "import yaml\n",
    "import configparser\n",
    "import redis\n",
    "import boto3\n",
    "from datetime import datetime\n",
    "from collections import OrderedDict\n",
    "from hashlib import sha256\n",
    "import urllib.request\n",
    "import shutil\n",
    "import time\n",
    "import glob\n",
    "\n",
    "import random\n",
    "from shapely.ops import cascaded_union\n",
    "from shapely.geometry import Point"
   ]
  },
  {
   "cell_type": "code",
   "execution_count": 68,
   "metadata": {},
   "outputs": [],
   "source": [
    "df = pd.read_csv('FSC.csv')"
   ]
  },
  {
   "cell_type": "code",
   "execution_count": 69,
   "metadata": {},
   "outputs": [],
   "source": [
    "df = df[['P0','R0','dR','dC','S0','Region','Shock','Country']]"
   ]
  },
  {
   "cell_type": "code",
   "execution_count": 72,
   "metadata": {},
   "outputs": [],
   "source": [
    "df = df.rename(columns={'Region': \"shocked_region\", \"Shock\": \"shock_severity\", \"Country\": \"country\"})"
   ]
  },
  {
   "cell_type": "code",
   "execution_count": 75,
   "metadata": {},
   "outputs": [],
   "source": [
    "df = df.replace('MBBF','ALL')"
   ]
  },
  {
   "cell_type": "code",
   "execution_count": 87,
   "metadata": {},
   "outputs": [],
   "source": [
    "def generate_impact_level(row):\n",
    "    if row.dR == 0 and row.dC == 0:\n",
    "        return \"No Impact\"\n",
    "    elif row.dR < 0 and abs(row.dR)<row.R0 and row.dC==0:\n",
    "        return \"Low Impact\"\n",
    "    elif (row.R0 + row.dR) == 0 and (row.dR + row.dC)/row.S0 > -0.01:\n",
    "        return \"Medium Impact\"\n",
    "    elif (row.R0 + row.dR) == 0 and (row.dR + row.dC)/row.S0 < -0.01:\n",
    "        return \"Serious Impact\""
   ]
  },
  {
   "cell_type": "code",
   "execution_count": 88,
   "metadata": {},
   "outputs": [],
   "source": [
    "df['impact_level'] = df.apply(lambda row: generate_impact_level(row),axis=1)"
   ]
  },
  {
   "cell_type": "code",
   "execution_count": 91,
   "metadata": {},
   "outputs": [],
   "source": [
    "df = df[['country','shocked_region','shock_severity','impact_level']]"
   ]
  },
  {
   "cell_type": "code",
   "execution_count": 93,
   "metadata": {},
   "outputs": [],
   "source": [
    "df.to_csv(\"FSC_formatted.csv\", index=False)"
   ]
  }
 ],
 "metadata": {
  "kernelspec": {
   "display_name": "Python 3",
   "language": "python",
   "name": "python3"
  },
  "language_info": {
   "codemirror_mode": {
    "name": "ipython",
    "version": 3
   },
   "file_extension": ".py",
   "mimetype": "text/x-python",
   "name": "python",
   "nbconvert_exporter": "python",
   "pygments_lexer": "ipython3",
   "version": "3.7.5"
  }
 },
 "nbformat": 4,
 "nbformat_minor": 2
}
