{
 "cells": [
  {
   "cell_type": "markdown",
   "metadata": {},
   "source": [
    "# Convert FSC MINT Metadata to YAML"
   ]
  },
  {
   "cell_type": "code",
   "execution_count": 1,
   "metadata": {},
   "outputs": [],
   "source": [
    "import mint_client\n",
    "import requests\n",
    "import json\n",
    "from ast import literal_eval\n",
    "import yaml"
   ]
  },
  {
   "cell_type": "code",
   "execution_count": 2,
   "metadata": {},
   "outputs": [],
   "source": [
    "configuration = mint_client.Configuration()\n",
    "api_instance = mint_client.UserApi()\n",
    "\n",
    "username = 'modelservice' # str | The user name for login\n",
    "password = 'development' # str | The password for login in clear text\n",
    "user = mint_client.User(username=username, password=password) # User | Created user object\n",
    "configuration.access_token = api_instance.login_user(username, password)"
   ]
  },
  {
   "cell_type": "markdown",
   "metadata": {},
   "source": [
    "### Description"
   ]
  },
  {
   "cell_type": "code",
   "execution_count": 3,
   "metadata": {},
   "outputs": [],
   "source": [
    "api_instance = mint_client.ModelApi(mint_client.ApiClient(configuration))\n",
    "api_response = api_instance.get_models(username=username)"
   ]
  },
  {
   "cell_type": "code",
   "execution_count": 4,
   "metadata": {},
   "outputs": [],
   "source": [
    "description = [i for i in api_response if i.id=='FSC'][0]"
   ]
  },
  {
   "cell_type": "code",
   "execution_count": 5,
   "metadata": {},
   "outputs": [
    {
     "data": {
      "text/plain": [
       "{'description': 'The Food Shocks Cascade Model (FSC) is a simple agent-based '\n",
       "                'network model that computes chain-reactions due to negative '\n",
       "                'production anomalies based on dynamic food balance sheets at '\n",
       "                'the country level.',\n",
       " 'has_documentation': ['https://github.com/mjpuma/FSC-WorldModelers'],\n",
       " 'has_model_category': ['Economic'],\n",
       " 'has_software_version': [{'id': 'FSC_0.1',\n",
       "                           'type': ['http://ontosoft.org/software#SoftwareVersion',\n",
       "                                    'https://w3id.org/mint/modelCatalog#ModelVersion']}],\n",
       " 'id': 'FSC',\n",
       " 'label': 'FSC',\n",
       " 'type': ['https://w3id.org/mint/modelCatalog#TheoryBasedModel',\n",
       "          'https://w3id.org/mint/modelCatalog#Model']}"
      ]
     },
     "execution_count": 5,
     "metadata": {},
     "output_type": "execute_result"
    }
   ],
   "source": [
    "description"
   ]
  },
  {
   "cell_type": "markdown",
   "metadata": {},
   "source": [
    "### Versions/Configs"
   ]
  },
  {
   "cell_type": "code",
   "execution_count": 6,
   "metadata": {},
   "outputs": [],
   "source": [
    "api_instance = mint_client.ModelversionApi(mint_client.ApiClient(configuration))\n",
    "version = api_instance.get_model_version('FSC', username=username)"
   ]
  },
  {
   "cell_type": "code",
   "execution_count": 7,
   "metadata": {},
   "outputs": [
    {
     "data": {
      "text/plain": [
       "{'id': 'FSC_0.1',\n",
       " 'type': ['http://ontosoft.org/software#SoftwareVersion',\n",
       "          'https://w3id.org/mint/modelCatalog#ModelVersion']}"
      ]
     },
     "execution_count": 7,
     "metadata": {},
     "output_type": "execute_result"
    }
   ],
   "source": [
    "version"
   ]
  },
  {
   "cell_type": "code",
   "execution_count": 8,
   "metadata": {},
   "outputs": [],
   "source": [
    "api_instance = mint_client.ModelconfigurationApi(mint_client.ApiClient(configuration))\n",
    "config_meta = api_instance.get_model_configuration(version.id, username=username)"
   ]
  },
  {
   "cell_type": "code",
   "execution_count": 9,
   "metadata": {},
   "outputs": [
    {
     "data": {
      "text/plain": [
       "{'id': 'FSC_config',\n",
       " 'type': ['mc:ModelConfiguration',\n",
       "          'https://w3id.org/mint/modelCatalog#ModelConfiguration']}"
      ]
     },
     "execution_count": 9,
     "metadata": {},
     "output_type": "execute_result"
    }
   ],
   "source": [
    "config_meta"
   ]
  },
  {
   "cell_type": "markdown",
   "metadata": {},
   "source": [
    "#### Get configuration"
   ]
  },
  {
   "cell_type": "code",
   "execution_count": 10,
   "metadata": {},
   "outputs": [],
   "source": [
    "api_instance = mint_client.ModelconfigurationApi(mint_client.ApiClient(configuration))\n",
    "config = api_instance.get_model_configuration(config_meta.id, username=username)"
   ]
  },
  {
   "cell_type": "markdown",
   "metadata": {},
   "source": [
    "### Get inputs and outputs"
   ]
  },
  {
   "cell_type": "code",
   "execution_count": 11,
   "metadata": {},
   "outputs": [],
   "source": [
    "api_instance = mint_client.DatasetspecificationApi(mint_client.ApiClient(configuration))"
   ]
  },
  {
   "cell_type": "code",
   "execution_count": 12,
   "metadata": {},
   "outputs": [],
   "source": [
    "datasets = api_instance.get_data_sets(username=username)"
   ]
  },
  {
   "cell_type": "code",
   "execution_count": 13,
   "metadata": {},
   "outputs": [],
   "source": [
    "input_ids = [i.id for i in config.has_input]\n",
    "output_ids = [i.id for i in config.has_output]"
   ]
  },
  {
   "cell_type": "code",
   "execution_count": 14,
   "metadata": {},
   "outputs": [],
   "source": [
    "inputs = [i for i in datasets if i.id in input_ids]\n",
    "outputs = [i for i in datasets if i.id in output_ids]"
   ]
  },
  {
   "cell_type": "markdown",
   "metadata": {},
   "source": [
    "### Get variables\n",
    "\n",
    "> Note: this relies on MaaS for now for expediency"
   ]
  },
  {
   "cell_type": "code",
   "execution_count": 15,
   "metadata": {},
   "outputs": [],
   "source": [
    "url = \"https://model-service.worldmodelers.com/model_io\"\n",
    "headers = {\"accept\": \"application/json\",\n",
    "           \"Content-Type\": \"application/json\"}\n",
    "payload = {\"iotype\":\"input\",\n",
    "           \"name\":\"FSC\"}"
   ]
  },
  {
   "cell_type": "code",
   "execution_count": 17,
   "metadata": {},
   "outputs": [],
   "source": [
    "resp = requests.post(url, headers=headers, json=payload, auth=('wmuser','Bq248mQHV9EDuUap'))\n",
    "\n",
    "inputs = resp.json()"
   ]
  },
  {
   "cell_type": "code",
   "execution_count": 18,
   "metadata": {},
   "outputs": [],
   "source": [
    "payload['iotype'] = 'output'\n",
    "resp = requests.post(url, headers=headers, json=payload, auth=('wmuser','Bq248mQHV9EDuUap'))\n",
    "outputs = resp.json()"
   ]
  },
  {
   "cell_type": "code",
   "execution_count": 19,
   "metadata": {},
   "outputs": [],
   "source": [
    "def find_ontology(uri):\n",
    "    if 'agrovoc' in uri:\n",
    "        return 'AGROVOC'\n",
    "    elif 'geoscienceontology' in uri:\n",
    "        return 'SVO'\n",
    "    elif 'schema.org' in uri:\n",
    "        return 'schema.org'\n",
    "    else:\n",
    "        return ''\n",
    "    \n",
    "def get_variables(file):\n",
    "    out_vars = []\n",
    "    in_vars = file['variables']\n",
    "    for vv in in_vars:\n",
    "        vv_out = {'name': vv['name'],\n",
    "                  'description': vv.get('metadata',{}).get('description',''),\n",
    "                  'standard_variables': []\n",
    "                 }\n",
    "        \n",
    "        for sv in vv['standard_names']:\n",
    "            sv.pop('standard_variable_id')\n",
    "            sv['name'] = sv.pop('standard_variable_name')\n",
    "            sv['uri'] = sv.pop('standard_variable_uri')\n",
    "            sv['ontology'] = find_ontology(sv['uri'])\n",
    "            vv_out['standard_variables'].append(sv)\n",
    "        \n",
    "        out_vars.append(vv_out)\n",
    "    return out_vars"
   ]
  },
  {
   "cell_type": "code",
   "execution_count": 20,
   "metadata": {},
   "outputs": [],
   "source": [
    "def format_io_file(file):\n",
    "    f = {}\n",
    "    f['name'] = file['name']\n",
    "    f['format'] = file['filetype']\n",
    "    f['description'] = file['description']\n",
    "    f['variables'] = get_variables(file)\n",
    "    return f"
   ]
  },
  {
   "cell_type": "markdown",
   "metadata": {},
   "source": [
    "### Obtain Parameters"
   ]
  },
  {
   "cell_type": "code",
   "execution_count": 21,
   "metadata": {},
   "outputs": [],
   "source": [
    "api_instance = mint_client.ParameterApi(mint_client.ApiClient(configuration))"
   ]
  },
  {
   "cell_type": "code",
   "execution_count": 22,
   "metadata": {},
   "outputs": [],
   "source": [
    "parameters = api_response = api_instance.get_parameters(username=username)"
   ]
  },
  {
   "cell_type": "code",
   "execution_count": 23,
   "metadata": {},
   "outputs": [],
   "source": [
    "pars = [i for i in parameters if 'FSC' in i.id]"
   ]
  },
  {
   "cell_type": "code",
   "execution_count": 24,
   "metadata": {},
   "outputs": [],
   "source": [
    "def get_parameter_type(par):\n",
    "    if 'string' in par.has_data_type:\n",
    "        return \"StringParameter\"\n",
    "    elif 'number' in par.has_data_type:\n",
    "        return \"NumberParameter\"\n",
    "    else:\n",
    "        return \"\""
   ]
  },
  {
   "cell_type": "code",
   "execution_count": 25,
   "metadata": {},
   "outputs": [],
   "source": [
    "pars_ = []\n",
    "for par in pars:\n",
    "    par_ = {}\n",
    "    par_['name'] = par.label\n",
    "    par_['description'] = par.description\n",
    "    par_['metadata'] = {'type': get_parameter_type(par)}\n",
    "    par_['default'] = literal_eval(par.has_default_value)[0]\n",
    "    \n",
    "    pars_.append(par_)"
   ]
  },
  {
   "cell_type": "code",
   "execution_count": 26,
   "metadata": {},
   "outputs": [
    {
     "data": {
      "text/plain": [
       "[{'name': 'country',\n",
       "  'description': 'The ISO 3 country code for the country of interest.',\n",
       "  'metadata': {'type': 'StringParameter'},\n",
       "  'default': 'SOM'},\n",
       " {'name': 'fractional_reserve_access',\n",
       "  'description': 'The percentage of fractional reserves which may be accessed (from 0 to 1, where 1 equals a 100% decrease)',\n",
       "  'metadata': {'type': 'NumberParameter'},\n",
       "  'default': '0.3'},\n",
       " {'name': 'production_decrease',\n",
       "  'description': 'The decrease in production you wish to induce (from 0 to 1, where 1 equals a 100% decrease)',\n",
       "  'metadata': {'type': 'NumberParameter'},\n",
       "  'default': '0.2'},\n",
       " {'name': 'year',\n",
       "  'description': 'The year you wish to simulate',\n",
       "  'metadata': {'type': ''},\n",
       "  'default': '2005'}]"
      ]
     },
     "execution_count": 26,
     "metadata": {},
     "output_type": "execute_result"
    }
   ],
   "source": [
    "pars_"
   ]
  },
  {
   "cell_type": "markdown",
   "metadata": {},
   "source": [
    "### Generate Output Model"
   ]
  },
  {
   "cell_type": "code",
   "execution_count": 27,
   "metadata": {},
   "outputs": [],
   "source": [
    "model = {}"
   ]
  },
  {
   "cell_type": "code",
   "execution_count": 35,
   "metadata": {},
   "outputs": [],
   "source": [
    "model['id'] = description.id\n",
    "model['name'] = description.id\n",
    "model['maintainer'] = {'name': 'Michael Puma', 'email': 'mjp38@columbia.edu'}\n",
    "model['author'] = [{'name': 'Michael Puma', 'email': 'mjp38@columbia.edu'}]\n",
    "model['version'] = description.has_software_version[0]['id']\n",
    "\n",
    "model['description'] = description.description\n",
    "model['website'] = description.has_documentation[0]"
   ]
  },
  {
   "cell_type": "code",
   "execution_count": 29,
   "metadata": {},
   "outputs": [],
   "source": [
    "model['inputs'] = [format_io_file(i) for i in inputs]\n",
    "model['outputs'] = [format_io_file(i) for i in outputs]"
   ]
  },
  {
   "cell_type": "code",
   "execution_count": 30,
   "metadata": {},
   "outputs": [],
   "source": [
    "model['parameters'] = pars_"
   ]
  },
  {
   "cell_type": "markdown",
   "metadata": {},
   "source": [
    "### Dump to YAML"
   ]
  },
  {
   "cell_type": "code",
   "execution_count": 36,
   "metadata": {},
   "outputs": [],
   "source": [
    "class MyDumper(yaml.Dumper):\n",
    "\n",
    "    def increase_indent(self, flow=False, indentless=False):\n",
    "        return super(MyDumper, self).increase_indent(flow, False)"
   ]
  },
  {
   "cell_type": "code",
   "execution_count": 38,
   "metadata": {},
   "outputs": [],
   "source": [
    "ff = open('FSC-metadata.yaml', 'w+')\n",
    "yaml.dump(model, ff, Dumper=MyDumper, sort_keys=False, indent=2)"
   ]
  },
  {
   "cell_type": "code",
   "execution_count": null,
   "metadata": {},
   "outputs": [],
   "source": []
  }
 ],
 "metadata": {
  "kernelspec": {
   "display_name": "Python 3",
   "language": "python",
   "name": "python3"
  },
  "language_info": {
   "codemirror_mode": {
    "name": "ipython",
    "version": 3
   },
   "file_extension": ".py",
   "mimetype": "text/x-python",
   "name": "python",
   "nbconvert_exporter": "python",
   "pygments_lexer": "ipython3",
   "version": "3.7.3"
  }
 },
 "nbformat": 4,
 "nbformat_minor": 2
}
