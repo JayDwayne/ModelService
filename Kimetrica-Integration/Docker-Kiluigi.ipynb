{
 "cells": [
  {
   "cell_type": "code",
   "execution_count": 1,
   "metadata": {},
   "outputs": [],
   "source": [
    "import docker\n",
    "client = docker.from_env()"
   ]
  },
  {
   "cell_type": "code",
   "execution_count": 8,
   "metadata": {},
   "outputs": [],
   "source": [
    "images = client.images"
   ]
  },
  {
   "cell_type": "code",
   "execution_count": 9,
   "metadata": {},
   "outputs": [
    {
     "data": {
      "text/plain": [
       "[<Image: 'drp_scheduler:latest'>,\n",
       " <Image: 'drp_db:latest'>,\n",
       " <Image: 'runapsim.latest:latest'>,\n",
       " <Image: 'mono:latest'>,\n",
       " <Image: 'k8s.gcr.io/kube-proxy:v1.14.0'>,\n",
       " <Image: 'k8s.gcr.io/kube-scheduler:v1.14.0'>,\n",
       " <Image: 'k8s.gcr.io/kube-apiserver:v1.14.0'>,\n",
       " <Image: 'k8s.gcr.io/kube-controller-manager:v1.14.0'>,\n",
       " <Image: 'mdillon/postgis:10'>,\n",
       " <Image: 'k8s.gcr.io/kube-addon-manager:v9.0'>,\n",
       " <Image: 'k8s.gcr.io/coredns:1.3.1'>,\n",
       " <Image: 'k8s.gcr.io/kubernetes-dashboard-amd64:v1.10.1'>,\n",
       " <Image: 'k8s.gcr.io/etcd:3.3.10'>,\n",
       " <Image: 'k8s.gcr.io/k8s-dns-sidecar-amd64:1.14.13'>,\n",
       " <Image: 'k8s.gcr.io/k8s-dns-kube-dns-amd64:1.14.13'>,\n",
       " <Image: 'k8s.gcr.io/k8s-dns-dnsmasq-nanny-amd64:1.14.13'>,\n",
       " <Image: 'continuumio/miniconda3:4.5.4'>,\n",
       " <Image: 'k8s.gcr.io/pause:3.1'>,\n",
       " <Image: 'gcr.io/k8s-minikube/storage-provisioner:v1.8.1'>,\n",
       " <Image: 'gcr.io/google_containers/echoserver:1.4'>]"
      ]
     },
     "execution_count": 9,
     "metadata": {},
     "output_type": "execute_result"
    }
   ],
   "source": [
    "images.list()"
   ]
  },
  {
   "cell_type": "code",
   "execution_count": 10,
   "metadata": {},
   "outputs": [],
   "source": [
    "containers = client.containers"
   ]
  },
  {
   "cell_type": "code",
   "execution_count": 12,
   "metadata": {},
   "outputs": [
    {
     "data": {
      "text/plain": [
       "[]"
      ]
     },
     "execution_count": 12,
     "metadata": {},
     "output_type": "execute_result"
    }
   ],
   "source": [
    "containers.list()"
   ]
  },
  {
   "cell_type": "code",
   "execution_count": 192,
   "metadata": {},
   "outputs": [],
   "source": [
    "def parse_env_file(path_to_file):\n",
    "    '''\n",
    "    Parse a Kimetrica .env file into a dictionary\n",
    "    '''\n",
    "    envre = re.compile(r'''^([^\\s=]+)=(?:[\\s\"']*)(.+?)(?:[\\s\"']*)$''')\n",
    "    env_var = re.compile(r'\\$\\{[0-9a-zA-Z_]*\\}')\n",
    "    alpha_num = re.compile(r'[0-9a-zA-Z_]+')\n",
    "    result = {}\n",
    "    with open(path_to_file) as ins:\n",
    "        for line in ins:\n",
    "            match = envre.match(line)\n",
    "            if match is not None:\n",
    "                key = match.group(1)\n",
    "                val = match.group(2)\n",
    "                to_replace = env_var.findall(val)\n",
    "                for v in to_replace:\n",
    "                    found = result[alpha_num.search(v).group(0)]\n",
    "                    val = val.replace(v, found)\n",
    "                result[key] = val\n",
    "    return result"
   ]
  },
  {
   "cell_type": "code",
   "execution_count": 208,
   "metadata": {},
   "outputs": [],
   "source": [
    "scheduler = 'drp_scheduler:latest'\n",
    "db = 'drp_db:latest'\n",
    "entrypoint=\"luigi --module models.malnutrition_model.tasks models.malnutrition_model.tasks.RasterToCSV --local-scheduler\"\n",
    "volumes = {'/home/ubuntu/darpa/': {'bind': '/usr/src/app/', 'mode': 'rw'}}\n",
    "environment = parse_env_file('darpa/kiluigi/.env')\n",
    "db_ports = {'5432/tcp': 5432}\n",
    "network_name = \"kiluigi\""
   ]
  },
  {
   "cell_type": "markdown",
   "metadata": {},
   "source": [
    "Create a network for Kiluigi activities. First, remove any lingering networks called `kiluigi`:"
   ]
  },
  {
   "cell_type": "code",
   "execution_count": 194,
   "metadata": {},
   "outputs": [],
   "source": [
    "for net in client.networks.list():\n",
    "    if net.name == network_name:\n",
    "        client.networks.get(net.id).remove()"
   ]
  },
  {
   "cell_type": "code",
   "execution_count": 195,
   "metadata": {},
   "outputs": [],
   "source": [
    "network = client.networks.create(network_name, driver=\"bridge\")"
   ]
  },
  {
   "cell_type": "code",
   "execution_count": 196,
   "metadata": {},
   "outputs": [
    {
     "data": {
      "text/plain": [
       "'kiluigi'"
      ]
     },
     "execution_count": 196,
     "metadata": {},
     "output_type": "execute_result"
    }
   ],
   "source": [
    "network.name"
   ]
  },
  {
   "cell_type": "code",
   "execution_count": 197,
   "metadata": {},
   "outputs": [],
   "source": [
    "db_environment = {\"APP\": environment[\"APP\"],\n",
    "                  \"ENV\": environment[\"ENV\"],\n",
    "                  \"PGPASSWORD\": environment[\"PGPASSWORD\"],\n",
    "                  \"POSTGRES_PASSWORD\": environment[\"PGPASSWORD\"]}"
   ]
  },
  {
   "cell_type": "code",
   "execution_count": 198,
   "metadata": {},
   "outputs": [],
   "source": [
    "db_container = containers.run(db, environment=db_environment, ports=db_ports, network=network_name, detach=True)"
   ]
  },
  {
   "cell_type": "code",
   "execution_count": 199,
   "metadata": {},
   "outputs": [
    {
     "data": {
      "text/plain": [
       "'8ca8289c5b'"
      ]
     },
     "execution_count": 199,
     "metadata": {},
     "output_type": "execute_result"
    }
   ],
   "source": [
    "db_container.short_id"
   ]
  },
  {
   "cell_type": "code",
   "execution_count": 211,
   "metadata": {},
   "outputs": [],
   "source": [
    "environment['DATABASE_URL'] = environment['DATABASE_URL'].replace('localhost',db_container.short_id)\n",
    "environment['PYTHONPATH'] = '/usr/src/app:/usr/src/app/kiluigi'"
   ]
  },
  {
   "cell_type": "code",
   "execution_count": 212,
   "metadata": {},
   "outputs": [
    {
     "data": {
      "text/plain": [
       "b'[2019-04-22 19:49:52,104] INFO [luigi:80] logging configured via *.conf file\\n[2019-04-22 19:49:52,114] INFO [luigi-interface:579] Informed scheduler that task   models.malnutrition_model.tasks.RasterToCSV_0_5_travel_time___landcover____r_333a86b912   has status   DONE\\n[2019-04-22 19:49:52,114] INFO [luigi-interface:171] Done scheduling tasks\\n[2019-04-22 19:49:52,114] INFO [luigi-interface:1152] Running Worker with 1 processes\\n[2019-04-22 19:49:52,115] INFO [luigi-interface:477] Worker Worker(salt=237989178, workers=1, host=ec69c0c24ed4, username=root, pid=1) was stopped. Shutting down Keep-Alive thread\\n[2019-04-22 19:49:52,116] INFO [luigi-interface:173] \\n===== Luigi Execution Summary =====\\n\\nScheduled 1 tasks of which:\\n* 1 complete ones were encountered:\\n    - 1 models.malnutrition_model.tasks.RasterToCSV(...)\\n\\nDid not run any tasks\\nThis progress looks :) because there were no failed tasks or missing dependencies\\n\\n===== Luigi Execution Summary =====\\n\\n'"
      ]
     },
     "execution_count": 212,
     "metadata": {},
     "output_type": "execute_result"
    }
   ],
   "source": [
    "containers.run(scheduler, \n",
    "               environment=environment, \n",
    "               volumes=volumes, \n",
    "               network=network_name, \n",
    "               links={db_container.short_id: None},\n",
    "               entrypoint=entrypoint)"
   ]
  },
  {
   "cell_type": "code",
   "execution_count": null,
   "metadata": {},
   "outputs": [],
   "source": []
  }
 ],
 "metadata": {
  "kernelspec": {
   "display_name": "Python 3",
   "language": "python",
   "name": "python3"
  },
  "language_info": {
   "codemirror_mode": {
    "name": "ipython",
    "version": 3
   },
   "file_extension": ".py",
   "mimetype": "text/x-python",
   "name": "python",
   "nbconvert_exporter": "python",
   "pygments_lexer": "ipython3",
   "version": "3.6.7"
  }
 },
 "nbformat": 4,
 "nbformat_minor": 2
}
