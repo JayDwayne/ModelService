{
 "cells": [
  {
   "cell_type": "markdown",
   "metadata": {},
   "source": [
    "# Convert DSSAT MINT Metadata to YAML"
   ]
  },
  {
   "cell_type": "code",
   "execution_count": 1,
   "metadata": {},
   "outputs": [],
   "source": [
    "import mint_client\n",
    "import requests\n",
    "import json\n",
    "import yaml"
   ]
  },
  {
   "cell_type": "markdown",
   "metadata": {},
   "source": [
    "### Description"
   ]
  },
  {
   "cell_type": "code",
   "execution_count": 2,
   "metadata": {},
   "outputs": [],
   "source": [
    "api_instance = mint_client.ModelApi(mint_client.ApiClient())\n",
    "api_response = api_instance.get_models()"
   ]
  },
  {
   "cell_type": "code",
   "execution_count": 3,
   "metadata": {},
   "outputs": [],
   "source": [
    "dssat_description = [i for i in api_response if i.id=='DSSAT'][0]"
   ]
  },
  {
   "cell_type": "code",
   "execution_count": 4,
   "metadata": {},
   "outputs": [
    {
     "data": {
      "text/plain": [
       "{'description': 'The Decision Support System for Agrotechnology Transfer '\n",
       "                '(DSSAT) comprises dynamic crop growth simulation model for '\n",
       "                'over 40 crops. The model simulates growth; development; and '\n",
       "                'yield as a function of the soil-plant-atmosphere dynamics.',\n",
       " 'has_documentation': ['https://dssat.net'],\n",
       " 'has_model_category': ['Agriculture'],\n",
       " 'has_software_version': [{'id': 'DSSAT_4.7',\n",
       "                           'type': ['http://ontosoft.org/software#SoftwareVersion',\n",
       "                                    'https://w3id.org/mint/modelCatalog#ModelVersion']}],\n",
       " 'id': 'DSSAT',\n",
       " 'label': 'DSSAT',\n",
       " 'type': ['https://w3id.org/mint/modelCatalog#TheoryBasedModel',\n",
       "          'https://w3id.org/mint/modelCatalog#Model']}"
      ]
     },
     "execution_count": 4,
     "metadata": {},
     "output_type": "execute_result"
    }
   ],
   "source": [
    "dssat_description"
   ]
  },
  {
   "cell_type": "markdown",
   "metadata": {},
   "source": [
    "### Versions/Configs"
   ]
  },
  {
   "cell_type": "code",
   "execution_count": 5,
   "metadata": {},
   "outputs": [],
   "source": [
    "api_instance = mint_client.ModelversionApi(mint_client.ApiClient())\n",
    "version = api_instance.get_model_version('DSSAT')"
   ]
  },
  {
   "cell_type": "code",
   "execution_count": 6,
   "metadata": {},
   "outputs": [
    {
     "data": {
      "text/plain": [
       "{'id': 'DSSAT_4.7',\n",
       " 'type': ['http://ontosoft.org/software#SoftwareVersion',\n",
       "          'https://w3id.org/mint/modelCatalog#ModelVersion']}"
      ]
     },
     "execution_count": 6,
     "metadata": {},
     "output_type": "execute_result"
    }
   ],
   "source": [
    "version"
   ]
  },
  {
   "cell_type": "code",
   "execution_count": 7,
   "metadata": {},
   "outputs": [],
   "source": [
    "api_instance = mint_client.ModelconfigurationApi(mint_client.ApiClient())\n",
    "config_meta = api_instance.get_model_configuration(version.id)"
   ]
  },
  {
   "cell_type": "code",
   "execution_count": 8,
   "metadata": {},
   "outputs": [
    {
     "data": {
      "text/plain": [
       "{'id': 'DSSAT_cfg_simple',\n",
       " 'type': ['https://w3id.org/mint/modelCatalog#ModelConfiguration']}"
      ]
     },
     "execution_count": 8,
     "metadata": {},
     "output_type": "execute_result"
    }
   ],
   "source": [
    "config_meta"
   ]
  },
  {
   "cell_type": "markdown",
   "metadata": {},
   "source": [
    "#### Get configuration"
   ]
  },
  {
   "cell_type": "code",
   "execution_count": 9,
   "metadata": {},
   "outputs": [],
   "source": [
    "api_instance = mint_client.ModelconfigurationApi(mint_client.ApiClient())\n",
    "config = api_instance.get_model_configuration(config_meta.id)"
   ]
  },
  {
   "cell_type": "markdown",
   "metadata": {},
   "source": [
    "### Get inputs and outputs"
   ]
  },
  {
   "cell_type": "code",
   "execution_count": 10,
   "metadata": {},
   "outputs": [],
   "source": [
    "api_instance = mint_client.DatasetspecificationApi(mint_client.ApiClient())"
   ]
  },
  {
   "cell_type": "code",
   "execution_count": 11,
   "metadata": {},
   "outputs": [],
   "source": [
    "datasets = api_instance.get_data_sets()"
   ]
  },
  {
   "cell_type": "code",
   "execution_count": 12,
   "metadata": {},
   "outputs": [],
   "source": [
    "input_ids = [i.id for i in config.has_input]\n",
    "output_ids = [i.id for i in config.has_output]"
   ]
  },
  {
   "cell_type": "code",
   "execution_count": 13,
   "metadata": {},
   "outputs": [],
   "source": [
    "inputs = [i for i in datasets if i.id in input_ids]\n",
    "outputs = [i for i in datasets if i.id in output_ids]"
   ]
  },
  {
   "cell_type": "markdown",
   "metadata": {},
   "source": [
    "### Get variables"
   ]
  },
  {
   "cell_type": "code",
   "execution_count": 14,
   "metadata": {},
   "outputs": [],
   "source": [
    "def get_variables(file):\n",
    "    params = (\n",
    "        ('io', f\"https://w3id.org/mint/instance/{file.id}\"),\n",
    "        ('endpoint', 'https://endpoint.mint.isi.edu/ds/query'),\n",
    "    )\n",
    "\n",
    "    response = requests.get('https://query.mint.isi.edu/api/mintproject/MINT-ModelCatalogQueries/getI_OVariablesAndUnits', params=params)\n",
    "    variables = response.json()['results']['bindings']\n",
    "\n",
    "    variables_table = []\n",
    "    for v in variables:\n",
    "        e = {'name': v.get('label',{}).get('value'),\n",
    "             'description': v.get('description',{}).get('value'),\n",
    "             'metadata': {\n",
    "                  'long_name': v.get('longName',{}).get('value'),\n",
    "                  'units': v.get('unit',{}).get('value')\n",
    "             },\n",
    "             'standard_variables': [\n",
    "                 {\n",
    "                     'name': v.get('sn',{}).get('value'),\n",
    "                     'ontology': 'SVO',\n",
    "                     'uri': f\"http://www.geoscienceontology.org/svo/svl/variable/1.0.0/#{v.get('sn',{}).get('value')}\"\n",
    "                 }\n",
    "             ]\n",
    "            }\n",
    "             \n",
    "        variables_table.append(e)\n",
    "    return variables_table"
   ]
  },
  {
   "cell_type": "code",
   "execution_count": 15,
   "metadata": {},
   "outputs": [],
   "source": [
    "def format_io_file(file):\n",
    "    f = {}\n",
    "    f['name'] = file.id\n",
    "    f['type'] = file.has_format.replace(\"[\",\"\").replace(\"]\", \"\").replace(\"'\",\"\")\n",
    "    f['description'] = file.label\n",
    "    f['variables'] = get_variables(file)\n",
    "    return f"
   ]
  },
  {
   "cell_type": "markdown",
   "metadata": {},
   "source": [
    "### Obtain Parameters\n",
    "\n",
    "> **Note**: there are currently no parameters associated with the DSSAT configuration in MINT"
   ]
  },
  {
   "cell_type": "code",
   "execution_count": 16,
   "metadata": {},
   "outputs": [],
   "source": [
    "api_instance = mint_client.ParameterApi(mint_client.ApiClient())"
   ]
  },
  {
   "cell_type": "code",
   "execution_count": 17,
   "metadata": {},
   "outputs": [],
   "source": [
    "parameters = api_response = api_instance.get_parameters()"
   ]
  },
  {
   "cell_type": "code",
   "execution_count": 18,
   "metadata": {},
   "outputs": [
    {
     "data": {
      "text/plain": [
       "49"
      ]
     },
     "execution_count": 18,
     "metadata": {},
     "output_type": "execute_result"
    }
   ],
   "source": [
    "len(parameters)"
   ]
  },
  {
   "cell_type": "markdown",
   "metadata": {},
   "source": [
    "### Generate Output Model"
   ]
  },
  {
   "cell_type": "code",
   "execution_count": 19,
   "metadata": {},
   "outputs": [],
   "source": [
    "model = {}"
   ]
  },
  {
   "cell_type": "code",
   "execution_count": 20,
   "metadata": {},
   "outputs": [],
   "source": [
    "model['name'] = dssat_description.id\n",
    "model['description'] = dssat_description.description\n",
    "model['maintainer'] = 'University of Florida'\n",
    "model['url'] = dssat_description.has_documentation[0]"
   ]
  },
  {
   "cell_type": "code",
   "execution_count": 21,
   "metadata": {},
   "outputs": [],
   "source": [
    "model['input_files'] = [format_io_file(i) for i in inputs]\n",
    "model['output_files'] = [format_io_file(i) for i in outputs]"
   ]
  },
  {
   "cell_type": "code",
   "execution_count": 22,
   "metadata": {},
   "outputs": [
    {
     "name": "stdout",
     "output_type": "stream",
     "text": [
      "No parameters for configuration were found.\n"
     ]
    }
   ],
   "source": [
    "try:\n",
    "    params = config.has_parameter\n",
    "except:\n",
    "    print(\"No parameters for configuration were found.\")\n",
    "    model['parameters'] = []"
   ]
  },
  {
   "cell_type": "markdown",
   "metadata": {},
   "source": [
    "### Dump to YAML"
   ]
  },
  {
   "cell_type": "code",
   "execution_count": 23,
   "metadata": {},
   "outputs": [],
   "source": [
    "ff = open('DSSAT-metadata.yaml', 'w+')\n",
    "yaml.dump(model, ff, sort_keys=False, indent=2)"
   ]
  }
 ],
 "metadata": {
  "kernelspec": {
   "display_name": "Python 3",
   "language": "python",
   "name": "python3"
  },
  "language_info": {
   "codemirror_mode": {
    "name": "ipython",
    "version": 3
   },
   "file_extension": ".py",
   "mimetype": "text/x-python",
   "name": "python",
   "nbconvert_exporter": "python",
   "pygments_lexer": "ipython3",
   "version": "3.7.3"
  }
 },
 "nbformat": 4,
 "nbformat_minor": 2
}
