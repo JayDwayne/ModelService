{
 "cells": [
  {
   "cell_type": "markdown",
   "metadata": {},
   "source": [
    "# DSSAT Data to MINT Data Catalog\n",
    "This notebook is used to register MINT inputs and data with the MINT Data Catalog."
   ]
  },
  {
   "cell_type": "code",
   "execution_count": 1,
   "metadata": {},
   "outputs": [],
   "source": [
    "# Prerequisites: python 3.6 or later\n",
    "import requests\n",
    "import json\n",
    "import uuid\n",
    "import pprint\n",
    "import datetime\n",
    "pp = pprint.PrettyPrinter(indent=1)\n",
    "import re\n",
    "\n",
    "# using rdflib to traverse the GSN ontology\n",
    "from rdflib import Graph"
   ]
  },
  {
   "cell_type": "code",
   "execution_count": 2,
   "metadata": {},
   "outputs": [],
   "source": [
    "# This is a convenience method to handle api responses. The main portion of the notebook starts in the the next cell\n",
    "def handle_api_response(response, print_response=False):\n",
    "    parsed_response = response.json()\n",
    "\n",
    "    if print_response:\n",
    "        pp.pprint({\"API Response\": parsed_response})\n",
    "    \n",
    "    if response.status_code == 200:\n",
    "        return parsed_response\n",
    "    elif response.status_code == 400:\n",
    "        raise Exception(\"Bad request ^\")\n",
    "    elif response.status_code == 403:\n",
    "        msg = \"Please make sure your request headers include X-Api-Key and that you are using correct url\"\n",
    "        raise Exception(msg)\n",
    "    else:\n",
    "        now = datetime.datetime.utcnow().replace(microsecond=0).isoformat()\n",
    "        msg = f\"\"\"\\n\\n\n",
    "        ------------------------------------- BEGIN ERROR MESSAGE -----------------------------------------\n",
    "    \n",
    "        Automatically generated summary:\n",
    "        - Time of occurrence: {now}\n",
    "        - Request method + url: {response.request.method} - {response.request.url}\n",
    "        - Request headers: {response.request.headers}\n",
    "        - Request body: {response.request.body}\n",
    "        - Response: {parsed_response}\n",
    "\n",
    "        --------------------------------------- END ERROR MESSAGE ------------------------------------------\n",
    "        \\n\\n\n",
    "        \"\"\"\n",
    "        raise Exception(msg)"
   ]
  },
  {
   "cell_type": "markdown",
   "metadata": {},
   "source": [
    "## Main Portion"
   ]
  },
  {
   "cell_type": "code",
   "execution_count": 53,
   "metadata": {},
   "outputs": [],
   "source": [
    "# For real interactions with the data catalog, use api.mint-data-catalog.org\n",
    "url = \"https://sandbox.mint-data-catalog.org\""
   ]
  },
  {
   "cell_type": "code",
   "execution_count": 54,
   "metadata": {},
   "outputs": [],
   "source": [
    "# When you register datasets or resources, we require you to pass a \"provenance_id\". This a unique id associated\n",
    "# with your account so that we can keep track of who is adding things to the data catalog. For sandboxed interactions\n",
    "# with the data catalog api, please use this provenance_id:\n",
    "provenance_id = \"e8287ea4-e6f2-47aa-8bfc-0c22852735c8\""
   ]
  },
  {
   "cell_type": "code",
   "execution_count": 55,
   "metadata": {},
   "outputs": [
    {
     "name": "stdout",
     "output_type": "stream",
     "text": [
      "{'X-Api-Key': 'mint-data-catalog:a1f80744-12a8-4494-9c72-43befa499eba:882bce49-8fd8-4d2f-98c5-c7c5e8da7e51'}\n"
     ]
    }
   ],
   "source": [
    "# Step 1: Get session token to use the API\n",
    "resp = requests.get(f\"{url}/get_session_token\").json()\n",
    "print(resp)\n",
    "api_key = resp['X-Api-Key']\n",
    "\n",
    "request_headers = {\n",
    "    'Content-Type': \"application/json\",\n",
    "    'X-Api-Key': api_key\n",
    "}"
   ]
  },
  {
   "cell_type": "markdown",
   "metadata": {},
   "source": [
    "## Registering `historical_nbg_maiz.json`\n",
    "We can start with the input file for DSSAT.\n",
    "\n"
   ]
  },
  {
   "cell_type": "code",
   "execution_count": 6,
   "metadata": {
    "scrolled": false
   },
   "outputs": [
    {
     "name": "stdout",
     "output_type": "stream",
     "text": [
      "{'fractionalAW': 0.25,\n",
      " 'incorporationDepth': 5,\n",
      " 'incorporationRate': 100,\n",
      " 'name': 'historical_nbg_maiz',\n",
      " 'plantingDayOfMonth': 1,\n",
      " 'plantingWindow': 45,\n",
      " 'rasters': {'dataLayers': {'elevation': 'rasters/nbg_elevation.tif',\n",
      "                            'harvestedArea': 'rasters/nbg_harvest_maiz.tif',\n",
      "                            'initialNitrogen': 'rasters/nbg_initial_n.tif',\n",
      "                            'plantingMonth': 'rasters/nbg_planting.tif',\n",
      "                            'rootMass': 'rasters/nbg_root_mass.tif',\n",
      "                            'soilProfile': 'rasters/nbg_hc27.tif',\n",
      "                            'soilResidue': 'rasters/nbg_surface_residue.tif',\n",
      "                            'weatherFile': 'rasters/nbg_cellid.tif'}},\n",
      " 'runYears': 33,\n",
      " 'soils': ['base/HC.SOL'],\n",
      " 'startYear': 1984,\n",
      " 'templateDir': 'templates',\n",
      " 'weatherDir': 'weather/nbg',\n",
      " 'workDir': 'out/nbg_maiz/historical',\n",
      " 'wstID': 'SSUD',\n",
      " 'xFileTemplate': 'MAIZ8433.SNX'}\n"
     ]
    }
   ],
   "source": [
    "pp.pprint(json.loads(open('historical_nbg_maiz.json').read()))"
   ]
  },
  {
   "cell_type": "code",
   "execution_count": 7,
   "metadata": {},
   "outputs": [],
   "source": [
    "to_register = ['plantingWindow',\n",
    "               'plantingDayOfMonth',\n",
    "               'fractionalAW',\n",
    "               'incorporationDepth',\n",
    "               'incorporationRate',\n",
    "               'startYear',\n",
    "               'runYears']\n",
    "\n",
    "to_register_sn = {}    "
   ]
  },
  {
   "cell_type": "markdown",
   "metadata": {},
   "source": [
    "### Load properties from GSN ontology:"
   ]
  },
  {
   "cell_type": "code",
   "execution_count": 8,
   "metadata": {
    "scrolled": false
   },
   "outputs": [
    {
     "data": {
      "text/plain": [
       "<Graph identifier=N86738a01069a40f0b7a3034085c586f7 (<class 'rdflib.graph.Graph'>)>"
      ]
     },
     "execution_count": 8,
     "metadata": {},
     "output_type": "execute_result"
    }
   ],
   "source": [
    "g = Graph()\n",
    "g.parse(\"svo-properties.rdf\", format=\"xml\")"
   ]
  },
  {
   "cell_type": "code",
   "execution_count": 9,
   "metadata": {},
   "outputs": [
    {
     "name": "stdout",
     "output_type": "stream",
     "text": [
      "There are 9606 properties in GSN\n"
     ]
    }
   ],
   "source": [
    "print(f\"There are {len(g)} properties in GSN\")"
   ]
  },
  {
   "cell_type": "markdown",
   "metadata": {},
   "source": [
    "Find the triples that map to the variables in our input file"
   ]
  },
  {
   "cell_type": "code",
   "execution_count": 10,
   "metadata": {},
   "outputs": [],
   "source": [
    "def find_triples(search_list, exact=False):\n",
    "    '''\n",
    "    Takes in a list of search terms and returns any triples whose name\n",
    "    contains in any order the terms.\n",
    "    \n",
    "    if `exact=True` then the specific words in `search_list` and only those\n",
    "    words should appear in the name\n",
    "    '''\n",
    "    triples = []\n",
    "    for subj, pred, obj in g:\n",
    "        if '#' in subj:\n",
    "            name = subj.split('#')[1]\n",
    "            if exact:\n",
    "                if set(search_list) == set(re.split('_|-',name.lower())):\n",
    "                    triples.append((subj, pred, obj))\n",
    "            else:\n",
    "                if all(to_search in name.lower() for to_search in search_list):\n",
    "                    triples.append((subj, pred, obj))\n",
    "    for subj,pred,obj in triples:\n",
    "        print(subj)\n",
    "        print(pred)\n",
    "        print(obj)\n",
    "        print()\n",
    "    return triples"
   ]
  },
  {
   "cell_type": "markdown",
   "metadata": {},
   "source": [
    "Below are all triples associated with `http://www.geoscienceontology.org/svo/svl/property#year`. We can learn:\n",
    "\n",
    "- year's type is a quantitative property\n",
    "- year's type could also be a named individual (?)\n",
    "- year's preferred lable is `year`\n",
    "- year has an associated wikipedia page\n",
    "- year has units `none` (a year is a year)"
   ]
  },
  {
   "cell_type": "code",
   "execution_count": 11,
   "metadata": {
    "scrolled": true
   },
   "outputs": [
    {
     "name": "stdout",
     "output_type": "stream",
     "text": [
      "http://www.geoscienceontology.org/svo/svl/property#year\n",
      "http://www.w3.org/2004/02/skos/core#prefLabel\n",
      "year\n",
      "\n",
      "http://www.geoscienceontology.org/svo/svl/property#year\n",
      "http://www.geoscienceontology.org/svo/svu#hasUnits\n",
      "none\n",
      "\n",
      "http://www.geoscienceontology.org/svo/svl/property#year\n",
      "http://www.geoscienceontology.org/svo/svu#hasAssociatedWikipediaPage\n",
      "http://en.wikipedia.org/wiki/Year\n",
      "\n",
      "http://www.geoscienceontology.org/svo/svl/property#year\n",
      "http://www.w3.org/1999/02/22-rdf-syntax-ns#type\n",
      "http://www.geoscienceontology.org/svo/svu#QuantitativeProperty\n",
      "\n",
      "http://www.geoscienceontology.org/svo/svl/property#year\n",
      "http://www.w3.org/1999/02/22-rdf-syntax-ns#type\n",
      "http://www.w3.org/2002/07/owl#NamedIndividual\n",
      "\n"
     ]
    },
    {
     "data": {
      "text/plain": [
       "[(rdflib.term.URIRef('http://www.geoscienceontology.org/svo/svl/property#year'),\n",
       "  rdflib.term.URIRef('http://www.w3.org/2004/02/skos/core#prefLabel'),\n",
       "  rdflib.term.Literal('year', lang='en')),\n",
       " (rdflib.term.URIRef('http://www.geoscienceontology.org/svo/svl/property#year'),\n",
       "  rdflib.term.URIRef('http://www.geoscienceontology.org/svo/svu#hasUnits'),\n",
       "  rdflib.term.Literal('none')),\n",
       " (rdflib.term.URIRef('http://www.geoscienceontology.org/svo/svl/property#year'),\n",
       "  rdflib.term.URIRef('http://www.geoscienceontology.org/svo/svu#hasAssociatedWikipediaPage'),\n",
       "  rdflib.term.Literal('http://en.wikipedia.org/wiki/Year')),\n",
       " (rdflib.term.URIRef('http://www.geoscienceontology.org/svo/svl/property#year'),\n",
       "  rdflib.term.URIRef('http://www.w3.org/1999/02/22-rdf-syntax-ns#type'),\n",
       "  rdflib.term.URIRef('http://www.geoscienceontology.org/svo/svu#QuantitativeProperty')),\n",
       " (rdflib.term.URIRef('http://www.geoscienceontology.org/svo/svl/property#year'),\n",
       "  rdflib.term.URIRef('http://www.w3.org/1999/02/22-rdf-syntax-ns#type'),\n",
       "  rdflib.term.URIRef('http://www.w3.org/2002/07/owl#NamedIndividual'))]"
      ]
     },
     "execution_count": 11,
     "metadata": {},
     "output_type": "execute_result"
    }
   ],
   "source": [
    "find_triples(['year'], exact=True)"
   ]
  },
  {
   "cell_type": "code",
   "execution_count": 13,
   "metadata": {},
   "outputs": [
    {
     "data": {
      "text/plain": [
       "['plantingWindow',\n",
       " 'plantingDayOfMonth',\n",
       " 'fractionalAW',\n",
       " 'incorporationDepth',\n",
       " 'incorporationRate',\n",
       " 'startYear',\n",
       " 'runYears']"
      ]
     },
     "execution_count": 13,
     "metadata": {},
     "output_type": "execute_result"
    }
   ],
   "source": [
    "to_register"
   ]
  },
  {
   "cell_type": "code",
   "execution_count": 29,
   "metadata": {},
   "outputs": [],
   "source": [
    "to_register_sn['runYears'] = 'http://www.geoscienceontology.org/svo/svl/property#year'\n",
    "to_register_sn['startYear'] = 'http://www.geoscienceontology.org/svo/svl/property#year'\n",
    "to_register_sn['plantingWindow'] = 'http://www.geoscienceontology.org/svo/svl/property#planting_date'\n",
    "to_register_sn['plantingDayOfMonth'] = 'http://www.geoscienceontology.org/svo/svl/property#planting_date'\n",
    "to_register_sn['incorporationDepth'] = 'http://www.geoscienceontology.org/svo/svl/variable#crop_planting__planting_depth'\n",
    "to_register_sn['incorporationRate'] = 'http://www.geoscienceontology.org/svo/svl/variable#__planting_separation_distance'\n",
    "to_register_sn['fractionalAW'] = 'http://www.geoscienceontology.org/svo/svl/attribute#moisture'"
   ]
  },
  {
   "cell_type": "markdown",
   "metadata": {},
   "source": [
    "### Step 0: Registering Standard Variables"
   ]
  },
  {
   "cell_type": "code",
   "execution_count": 66,
   "metadata": {},
   "outputs": [],
   "source": [
    "ontology = 'Scientific Variables Ontology'"
   ]
  },
  {
   "cell_type": "code",
   "execution_count": 67,
   "metadata": {},
   "outputs": [],
   "source": [
    "standard_variable_defs = {}\n",
    "standard_variable_defs['standard_variables'] = []\n",
    "for kk, vv in to_register_sn.items():\n",
    "    sn = {'name': vv.split('#')[1], 'ontology': ontology, 'uri': vv}\n",
    "    standard_variable_defs['standard_variables'].append(sn)"
   ]
  },
  {
   "cell_type": "code",
   "execution_count": 68,
   "metadata": {},
   "outputs": [
    {
     "name": "stdout",
     "output_type": "stream",
     "text": [
      "{'standard_variables': [{'name': 'year',\n",
      "                         'ontology': 'Scientific Variables Ontology',\n",
      "                         'uri': 'http://www.geoscienceontology.org/svo/svl/property#year'},\n",
      "                        {'name': 'year',\n",
      "                         'ontology': 'Scientific Variables Ontology',\n",
      "                         'uri': 'http://www.geoscienceontology.org/svo/svl/property#year'},\n",
      "                        {'name': 'planting_date',\n",
      "                         'ontology': 'Scientific Variables Ontology',\n",
      "                         'uri': 'http://www.geoscienceontology.org/svo/svl/property#planting_date'},\n",
      "                        {'name': 'planting_date',\n",
      "                         'ontology': 'Scientific Variables Ontology',\n",
      "                         'uri': 'http://www.geoscienceontology.org/svo/svl/property#planting_date'},\n",
      "                        {'name': 'crop_planting__planting_depth',\n",
      "                         'ontology': 'Scientific Variables Ontology',\n",
      "                         'uri': 'http://www.geoscienceontology.org/svo/svl/variable#crop_planting__planting_depth'},\n",
      "                        {'name': '__planting_separation_distance',\n",
      "                         'ontology': 'Scientific Variables Ontology',\n",
      "                         'uri': 'http://www.geoscienceontology.org/svo/svl/variable#__planting_separation_distance'},\n",
      "                        {'name': 'moisture',\n",
      "                         'ontology': 'Scientific Variables Ontology',\n",
      "                         'uri': 'http://www.geoscienceontology.org/svo/svl/attribute#moisture'}]}\n"
     ]
    }
   ],
   "source": [
    "pp.pprint(standard_variable_defs)"
   ]
  },
  {
   "cell_type": "code",
   "execution_count": 38,
   "metadata": {},
   "outputs": [],
   "source": [
    "resp = requests.post(f\"{url}/knowledge_graph/register_standard_variables\", \n",
    "                    headers=request_headers, \n",
    "                    json=standard_variable_defs)"
   ]
  },
  {
   "cell_type": "code",
   "execution_count": 59,
   "metadata": {},
   "outputs": [],
   "source": [
    "parsed_response = handle_api_response(resp)\n",
    "standard_name_records = parsed_response['standard_variables']"
   ]
  },
  {
   "cell_type": "code",
   "execution_count": 69,
   "metadata": {},
   "outputs": [],
   "source": [
    "if len(standard_name_records) == 0:\n",
    "    # this means the standard names are already registered;\n",
    "    # so, let's query for them instead\n",
    "    search_query = {\n",
    "    \"name__in\": [i['name'] for i in standard_variable_defs['standard_variables']]\n",
    "    }\n",
    "\n",
    "    resp = requests.post(f\"{url}/knowledge_graph/find_standard_variables\", \n",
    "                                            headers=request_headers,\n",
    "                                            json=search_query)\n",
    "    parsed_response = handle_api_response(resp)\n",
    "    standard_name_records = parsed_response['standard_variables']\n",
    "    standard_name_records = [i for i in standard_name_records if i['ontology'] == ontology]"
   ]
  },
  {
   "cell_type": "code",
   "execution_count": 71,
   "metadata": {},
   "outputs": [
    {
     "data": {
      "text/plain": [
       "[{'id': '18d2bc6c-c4cd-51a2-a03e-5cffe4dcef02',\n",
       "  'ontology': 'Scientific Variables Ontology',\n",
       "  'name': '__planting_separation_distance',\n",
       "  'uri': 'http://www.geoscienceontology.org/svo/svl/variable#__planting_separation_distance',\n",
       "  'description': ''},\n",
       " {'id': '3276f43e-82a1-5caf-a627-598e6bc04503',\n",
       "  'ontology': 'Scientific Variables Ontology',\n",
       "  'name': 'planting_date',\n",
       "  'uri': 'http://www.geoscienceontology.org/svo/svl/property#planting_date',\n",
       "  'description': ''},\n",
       " {'id': '69a7996f-e953-56cb-bb9f-213456b1efab',\n",
       "  'ontology': 'Scientific Variables Ontology',\n",
       "  'name': 'crop_planting__planting_depth',\n",
       "  'uri': 'http://www.geoscienceontology.org/svo/svl/variable#crop_planting__planting_depth',\n",
       "  'description': ''},\n",
       " {'id': 'df1daca4-d727-5dc8-bfa4-fb20c717a32b',\n",
       "  'ontology': 'Scientific Variables Ontology',\n",
       "  'name': 'year',\n",
       "  'uri': 'http://www.geoscienceontology.org/svo/svl/property#year',\n",
       "  'description': ''},\n",
       " {'id': 'f7d62db8-a470-503a-80d3-c987181c6ca8',\n",
       "  'ontology': 'Scientific Variables Ontology',\n",
       "  'name': 'moisture',\n",
       "  'uri': 'http://www.geoscienceontology.org/svo/svl/attribute#moisture',\n",
       "  'description': ''}]"
      ]
     },
     "execution_count": 71,
     "metadata": {},
     "output_type": "execute_result"
    }
   ],
   "source": [
    "standard_name_records"
   ]
  },
  {
   "cell_type": "markdown",
   "metadata": {},
   "source": [
    "### Step 1: REGISTER DATASETS"
   ]
  },
  {
   "cell_type": "code",
   "execution_count": 45,
   "metadata": {},
   "outputs": [
    {
     "name": "stdout",
     "output_type": "stream",
     "text": [
      "00ee1157-bbff-4625-852d-e010f44679e4\n"
     ]
    }
   ],
   "source": [
    "dataset_id = str(uuid.uuid4())\n",
    "print(dataset_id)"
   ]
  },
  {
   "cell_type": "markdown",
   "metadata": {},
   "source": [
    "#### Build datasets definition"
   ]
  },
  {
   "cell_type": "code",
   "execution_count": 97,
   "metadata": {},
   "outputs": [],
   "source": [
    "dataset_name = \"DSSAT Simplified Input Data\""
   ]
  },
  {
   "cell_type": "code",
   "execution_count": 72,
   "metadata": {},
   "outputs": [
    {
     "name": "stdout",
     "output_type": "stream",
     "text": [
      "{'API Response': {'datasets': [{'description': 'Simplified input data to be '\n",
      "                                               'used for running serialized '\n",
      "                                               'Docker version of '\n",
      "                                               'DSSAT                             '\n",
      "                                               '(Peerless, Pythia, DSSAT).',\n",
      "                                'json_metadata': {},\n",
      "                                'name': 'DSSAT Simplified Input Data',\n",
      "                                'provenance_id': 'e8287ea4-e6f2-47aa-8bfc-0c22852735c8',\n",
      "                                'record_id': '00ee1157-bbff-4625-852d-e010f44679e4'}],\n",
      "                  'result': 'success'}}\n"
     ]
    }
   ],
   "source": [
    "dataset_defs = {\n",
    "    \"datasets\": [\n",
    "        {\n",
    "            \"record_id\": dataset_id, # Remove this line if you want to create a new dataset\n",
    "            \"provenance_id\": provenance_id,\n",
    "            \"metadata\": {},\n",
    "            \"description\": \"Simplified input data to be used for running serialized Docker version of DSSAT \\\n",
    "                            (Peerless, Pythia, DSSAT).\",\n",
    "            \"name\": dataset_name\n",
    "        }\n",
    "    ]\n",
    "}\n",
    "\n",
    "resp = requests.post(f\"{url}/datasets/register_datasets\", \n",
    "                                        headers=request_headers,\n",
    "                                        json=dataset_defs)\n",
    "\n",
    "\n",
    "parsed_response = handle_api_response(resp, print_response=True)\n",
    "\n",
    "datasets = parsed_response[\"datasets\"]\n",
    "\n",
    "# Iterate through the list of returned datasets objects and save the one whose name matches our name \n",
    "# to a Python variable\n",
    "dataset_record = next(record for record in datasets if record[\"name\"] == name)\n",
    "# Extract dataset record_id and store it in a variable\n",
    "dataset_record_id = dataset_record[\"record_id\"]\n",
    "    "
   ]
  },
  {
   "cell_type": "code",
   "execution_count": 73,
   "metadata": {},
   "outputs": [
    {
     "data": {
      "text/plain": [
       "'00ee1157-bbff-4625-852d-e010f44679e4'"
      ]
     },
     "execution_count": 73,
     "metadata": {},
     "output_type": "execute_result"
    }
   ],
   "source": [
    "dataset_record_id"
   ]
  },
  {
   "cell_type": "markdown",
   "metadata": {},
   "source": [
    "### Step 2: Register variables"
   ]
  },
  {
   "cell_type": "markdown",
   "metadata": {},
   "source": [
    "We have to merge the standard name information (record ids) with the variable names we initially associated with standard names:"
   ]
  },
  {
   "cell_type": "code",
   "execution_count": 80,
   "metadata": {},
   "outputs": [],
   "source": [
    "variable_defs = {}\n",
    "variable_defs['variables'] = []\n",
    "for kk, vv in to_register_sn.items():\n",
    "    for e in standard_name_records:\n",
    "        if vv == e['uri']:\n",
    "            variable = {\n",
    "                'dataset_id': dataset_id,\n",
    "                'name': kk,\n",
    "                'metadata': {},\n",
    "                'standard_variable_ids': [e['id']]\n",
    "            }\n",
    "            variable_defs['variables'].append(variable)"
   ]
  },
  {
   "cell_type": "code",
   "execution_count": 82,
   "metadata": {},
   "outputs": [
    {
     "name": "stdout",
     "output_type": "stream",
     "text": [
      "{'variables': [{'dataset_id': '00ee1157-bbff-4625-852d-e010f44679e4',\n",
      "                'metadata': {},\n",
      "                'name': 'runYears',\n",
      "                'standard_variable_ids': ['df1daca4-d727-5dc8-bfa4-fb20c717a32b']},\n",
      "               {'dataset_id': '00ee1157-bbff-4625-852d-e010f44679e4',\n",
      "                'metadata': {},\n",
      "                'name': 'startYear',\n",
      "                'standard_variable_ids': ['df1daca4-d727-5dc8-bfa4-fb20c717a32b']},\n",
      "               {'dataset_id': '00ee1157-bbff-4625-852d-e010f44679e4',\n",
      "                'metadata': {},\n",
      "                'name': 'plantingWindow',\n",
      "                'standard_variable_ids': ['3276f43e-82a1-5caf-a627-598e6bc04503']},\n",
      "               {'dataset_id': '00ee1157-bbff-4625-852d-e010f44679e4',\n",
      "                'metadata': {},\n",
      "                'name': 'plantingDayOfMonth',\n",
      "                'standard_variable_ids': ['3276f43e-82a1-5caf-a627-598e6bc04503']},\n",
      "               {'dataset_id': '00ee1157-bbff-4625-852d-e010f44679e4',\n",
      "                'metadata': {},\n",
      "                'name': 'incorporationDepth',\n",
      "                'standard_variable_ids': ['69a7996f-e953-56cb-bb9f-213456b1efab']},\n",
      "               {'dataset_id': '00ee1157-bbff-4625-852d-e010f44679e4',\n",
      "                'metadata': {},\n",
      "                'name': 'incorporationRate',\n",
      "                'standard_variable_ids': ['18d2bc6c-c4cd-51a2-a03e-5cffe4dcef02']},\n",
      "               {'dataset_id': '00ee1157-bbff-4625-852d-e010f44679e4',\n",
      "                'metadata': {},\n",
      "                'name': 'fractionalAW',\n",
      "                'standard_variable_ids': ['f7d62db8-a470-503a-80d3-c987181c6ca8']}]}\n"
     ]
    }
   ],
   "source": [
    "pp.pprint(variable_defs)"
   ]
  },
  {
   "cell_type": "code",
   "execution_count": 83,
   "metadata": {},
   "outputs": [
    {
     "name": "stdout",
     "output_type": "stream",
     "text": [
      "{'API Response': {'result': 'success',\n",
      "                  'variables': [{'dataset_id': '00ee1157-bbff-4625-852d-e010f44679e4',\n",
      "                                 'json_metadata': {},\n",
      "                                 'name': 'runYears',\n",
      "                                 'record_id': '8bfff40c-ba75-4a70-87f4-8aa254c8227c'},\n",
      "                                {'dataset_id': '00ee1157-bbff-4625-852d-e010f44679e4',\n",
      "                                 'json_metadata': {},\n",
      "                                 'name': 'startYear',\n",
      "                                 'record_id': '0fd06920-e19f-49ad-bdf4-b278bf246bd6'},\n",
      "                                {'dataset_id': '00ee1157-bbff-4625-852d-e010f44679e4',\n",
      "                                 'json_metadata': {},\n",
      "                                 'name': 'plantingWindow',\n",
      "                                 'record_id': 'b35db5a5-ff8d-4819-969f-77779387fa90'},\n",
      "                                {'dataset_id': '00ee1157-bbff-4625-852d-e010f44679e4',\n",
      "                                 'json_metadata': {},\n",
      "                                 'name': 'plantingDayOfMonth',\n",
      "                                 'record_id': '3b2d79be-56b7-40f7-85fa-11997fce8720'},\n",
      "                                {'dataset_id': '00ee1157-bbff-4625-852d-e010f44679e4',\n",
      "                                 'json_metadata': {},\n",
      "                                 'name': 'incorporationDepth',\n",
      "                                 'record_id': '7c3a410d-17b5-48a1-99da-d51877c319cf'},\n",
      "                                {'dataset_id': '00ee1157-bbff-4625-852d-e010f44679e4',\n",
      "                                 'json_metadata': {},\n",
      "                                 'name': 'incorporationRate',\n",
      "                                 'record_id': '8b6d913f-5475-4006-b32e-c8b60d16d5b1'},\n",
      "                                {'dataset_id': '00ee1157-bbff-4625-852d-e010f44679e4',\n",
      "                                 'json_metadata': {},\n",
      "                                 'name': 'fractionalAW',\n",
      "                                 'record_id': '0b7d0908-ff14-4b8a-a082-0cbf0eca27c4'}]}}\n"
     ]
    }
   ],
   "source": [
    "resp = requests.post(f\"{url}/datasets/register_variables\", \n",
    "                                        headers=request_headers,\n",
    "                                        json=variable_defs)\n",
    "\n",
    "parsed_response = handle_api_response(resp, print_response=True)\n",
    "variables = parsed_response[\"variables\"]"
   ]
  },
  {
   "cell_type": "markdown",
   "metadata": {},
   "source": [
    "### Step 3: Register resources"
   ]
  },
  {
   "cell_type": "code",
   "execution_count": 85,
   "metadata": {},
   "outputs": [],
   "source": [
    "data_storage_url = \"https://s3.amazonaws.com/world-modelers/data/\""
   ]
  },
  {
   "cell_type": "code",
   "execution_count": 86,
   "metadata": {},
   "outputs": [],
   "source": [
    "file_1_name = \"historical_nbg_maiz.json\""
   ]
  },
  {
   "cell_type": "code",
   "execution_count": 87,
   "metadata": {},
   "outputs": [],
   "source": [
    "file_1_data_url = f\"{data_storage_url}/{file_1_name}\""
   ]
  },
  {
   "cell_type": "code",
   "execution_count": 88,
   "metadata": {},
   "outputs": [],
   "source": [
    "file_1_record_id = str(uuid.uuid4())"
   ]
  },
  {
   "cell_type": "code",
   "execution_count": 89,
   "metadata": {},
   "outputs": [
    {
     "data": {
      "text/plain": [
       "'e601e666-475b-434f-93e0-6e5252d71995'"
      ]
     },
     "execution_count": 89,
     "metadata": {},
     "output_type": "execute_result"
    }
   ],
   "source": [
    "file_1_record_id"
   ]
  },
  {
   "cell_type": "markdown",
   "metadata": {},
   "source": [
    "#### Finally, we can build our resource definitions and register them (in bulk)"
   ]
  },
  {
   "cell_type": "code",
   "execution_count": 94,
   "metadata": {},
   "outputs": [
    {
     "name": "stdout",
     "output_type": "stream",
     "text": [
      "{'API Response': {'resources': [{'data_url': 'https://s3.amazonaws.com/world-modelers/data//historical_nbg_maiz.json',\n",
      "                                 'dataset_id': '00ee1157-bbff-4625-852d-e010f44679e4',\n",
      "                                 'json_metadata': {},\n",
      "                                 'layout': {},\n",
      "                                 'name': 'historical_nbg_maiz.json',\n",
      "                                 'provenance_id': 'e8287ea4-e6f2-47aa-8bfc-0c22852735c8',\n",
      "                                 'record_id': 'e601e666-475b-434f-93e0-6e5252d71995',\n",
      "                                 'resource_type': '.json'}],\n",
      "                  'result': 'success'}}\n"
     ]
    }
   ],
   "source": [
    "resource_defs = {\n",
    "    \"resources\": [\n",
    "        {\n",
    "            \"record_id\": file_1_record_id,\n",
    "            \"dataset_id\": dataset_record_id,\n",
    "            \"provenance_id\": provenance_id,\n",
    "            \"variable_ids\": [i['record_id'] for i in variables],\n",
    "            \"name\": file_1_name,\n",
    "            \"resource_type\": \".json\",\n",
    "            \"data_url\": file_1_data_url,\n",
    "            \"metadata\": {},\n",
    "            \"layout\": {}\n",
    "        }\n",
    "    ]\n",
    "}\n",
    "\n",
    "resp = requests.post(f\"{url}/datasets/register_resources\", \n",
    "                                        headers=request_headers,\n",
    "                                        json=resource_defs)\n",
    "\n",
    "\n",
    "parsed_response = handle_api_response(resp, print_response=True)\n",
    "\n",
    "\n",
    "resources = parsed_response[\"resources\"]"
   ]
  },
  {
   "cell_type": "code",
   "execution_count": 98,
   "metadata": {},
   "outputs": [
    {
     "name": "stdout",
     "output_type": "stream",
     "text": [
      "Found 1 resources\n",
      "[{'dataset_id': '00ee1157-bbff-4625-852d-e010f44679e4',\n",
      "  'dataset_metadata': {},\n",
      "  'dataset_name': 'DSSAT Simplified Input Data',\n",
      "  'resource_data_url': 'https://s3.amazonaws.com/world-modelers/data//historical_nbg_maiz.json',\n",
      "  'resource_id': 'e601e666-475b-434f-93e0-6e5252d71995',\n",
      "  'resource_metadata': {},\n",
      "  'resource_name': 'historical_nbg_maiz.json'}]\n"
     ]
    }
   ],
   "source": [
    "search_query_4 = {\n",
    "    \"dataset_names__in\": [dataset_name]\n",
    "}\n",
    "\n",
    "resp = requests.post(f\"{url}/datasets/find\",\n",
    "                     headers=request_headers,\n",
    "                     json=search_query_4).json()\n",
    "\n",
    "if resp['result'] == 'success':\n",
    "    found_resources = resp['resources']\n",
    "    print(f\"Found {len(found_resources)} resources\")\n",
    "    pp.pprint(found_resources)"
   ]
  }
 ],
 "metadata": {
  "kernelspec": {
   "display_name": "Python 3",
   "language": "python",
   "name": "python3"
  },
  "language_info": {
   "codemirror_mode": {
    "name": "ipython",
    "version": 3
   },
   "file_extension": ".py",
   "mimetype": "text/x-python",
   "name": "python",
   "nbconvert_exporter": "python",
   "pygments_lexer": "ipython3",
   "version": "3.7.3"
  }
 },
 "nbformat": 4,
 "nbformat_minor": 2
}
