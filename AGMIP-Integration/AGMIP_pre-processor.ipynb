{
 "cells": [
  {
   "cell_type": "code",
   "execution_count": 1,
   "metadata": {},
   "outputs": [],
   "source": [
    "import os\n",
    "import glob\n",
    "import pandas as pd\n",
    "from datetime import datetime"
   ]
  },
  {
   "cell_type": "code",
   "execution_count": 4,
   "metadata": {},
   "outputs": [],
   "source": [
    "files = glob.glob('data/*.csv')"
   ]
  },
  {
   "cell_type": "code",
   "execution_count": 5,
   "metadata": {},
   "outputs": [
    {
     "data": {
      "text/plain": [
       "['data/DARPA-WM_CropYieldEmulator_rfMaize_YieldChange_GLDAS2018_SensitivityTest_T-1_W0.csv',\n",
       " 'data/DARPA-WM_CropYieldEmulator_rfSpringWheat_YieldChange_GLDAS2018.csv',\n",
       " 'data/DARPA-WM_CropYieldEmulator_rfMaize_YieldChange_GLDAS2018_SensitivityTest_T-1_W-20.csv',\n",
       " 'data/DARPA-WM_CropYieldEmulator_rfSpringWheat_YieldChange_GLDAS2018_SensitivityTest_T0_W-20.csv',\n",
       " 'data/DARPA-WM_CropYieldEmulator_rfSpringWheat_YieldChange_GLDAS2018_SensitivityTest_T1_W-20.csv',\n",
       " 'data/DARPA-WM_CropYieldEmulator_rfSpringWheat_YieldChange_GLDAS2018_SensitivityTest_T1_W0.csv',\n",
       " 'data/DARPA-WM_CropYieldEmulator_rfSpringWheat_YieldChange_GLDAS2018_SensitivityTest_T0_W20.csv',\n",
       " 'data/DARPA-WM_CropYieldEmulator_rfSpringWheat_YieldChange_GLDAS2018_SensitivityTest_T-1_W20.csv',\n",
       " 'data/DARPA-WM_CropYieldEmulator_rfMaize_YieldChange_GLDAS2018_SensitivityTest_T1_W0.csv',\n",
       " 'data/DARPA-WM_CropYieldEmulator_rfSpringWheat_YieldChange_GLDAS2018_SensitivityTest_T1_W20.csv',\n",
       " 'data/DARPA-WM_CropYieldEmulator_rfSpringWheat_YieldChange_GLDAS2018_SensitivityTest_T-1_W-20.csv',\n",
       " 'data/DARPA-WM_CropYieldEmulator_rfMaize_YieldChange_GLDAS2018_SensitivityTest_T0_W20.csv',\n",
       " 'data/DARPA-WM_CropYieldEmulator_rfMaize_YieldChange_GLDAS2018_SensitivityTest_T-1_W20.csv',\n",
       " 'data/DARPA-WM_CropYieldEmulator_rfSpringWheat_YieldChange_GLDAS2018_SensitivityTest_T0_W0.csv',\n",
       " 'data/DARPA-WM_CropYieldEmulator_rfMaize_YieldChange_GLDAS2018_SensitivityTest_T1_W20.csv',\n",
       " 'data/DARPA-WM_CropYieldEmulator_rfSpringWheat_YieldChange_GLDAS2018_SensitivityTest_T-1_W0.csv',\n",
       " 'data/DARPA-WM_CropYieldEmulator_rfMaize_YieldChange_GLDAS2018.csv',\n",
       " 'data/DARPA-WM_CropYieldEmulator_rfMaize_YieldChange_GLDAS2018_SensitivityTest_T0_W-20.csv',\n",
       " 'data/DARPA-WM_CropYieldEmulator_rfMaize_YieldChange_GLDAS2018_SensitivityTest_T1_W-20.csv',\n",
       " 'data/DARPA-WM_CropYieldEmulator_rfMaize_YieldChange_GLDAS2018_SensitivityTest_T0_W0.csv']"
      ]
     },
     "execution_count": 5,
     "metadata": {},
     "output_type": "execute_result"
    }
   ],
   "source": [
    "files"
   ]
  },
  {
   "cell_type": "code",
   "execution_count": 46,
   "metadata": {},
   "outputs": [],
   "source": [
    "def parse_f(f):\n",
    "    f = f.lower()\n",
    "    if 'sensitivity' not in f:\n",
    "        if 'maize' in f:\n",
    "            out = {'crop': 'maize', 'temperature': 0, 'precipitation': 0, 'type': '2018 GLDAS Temperature/Precipitation'}\n",
    "        elif 'wheat' in f:\n",
    "            out = {'crop': 'spring wheat', 'temperature': 0, 'precipitation': 0, 'type': '2018 GLDAS Temperature/Precipitation'}\n",
    "    else:\n",
    "        if 'maize' in f:\n",
    "            crop = 'maize'\n",
    "        elif 'wheat' in f:\n",
    "            crop = 'spring wheat'\n",
    "        temp = f.split('sensitivitytest_t')[1].split('_')[0]\n",
    "        precip = f.split('_')[-1].split('.csv')[0].split('w')[1]\n",
    "        out = {'crop': crop, 'temperature': int(temp), 'precipitation': int(precip), 'type': 'Temperature/Precipitation Sensitivity Tests'}\n",
    "    return out"
   ]
  },
  {
   "cell_type": "code",
   "execution_count": 53,
   "metadata": {},
   "outputs": [],
   "source": [
    "df_ = pd.DataFrame()\n",
    "for f in files:\n",
    "    df = pd.read_csv(f)\n",
    "    params = parse_f(f)\n",
    "    df['crop'] = params['crop']\n",
    "    df['temperature'] = params['temperature']\n",
    "    df['precipitation'] = params['precipitation']\n",
    "    df['type'] = params['type']\n",
    "    df['datetime'] = datetime(year=2018, month=1, day=1)\n",
    "    \n",
    "    f_out = f.split('data/')[1]\n",
    "    df.to_csv(f\"data_processed/{f_out}\", index=False)\n",
    "    \n",
    "    df_ = df_.append(df)"
   ]
  },
  {
   "cell_type": "code",
   "execution_count": 62,
   "metadata": {},
   "outputs": [],
   "source": [
    "df_['% Yield Anomaly'] = df_['% Yield Anomaly'].apply(lambda x: float(x))"
   ]
  },
  {
   "cell_type": "code",
   "execution_count": 64,
   "metadata": {},
   "outputs": [],
   "source": [
    "df_.to_csv('/Users/brandonrose/model-data/agmip.csv',index=False)"
   ]
  },
  {
   "cell_type": "code",
   "execution_count": null,
   "metadata": {},
   "outputs": [],
   "source": []
  }
 ],
 "metadata": {
  "kernelspec": {
   "display_name": "Python 3",
   "language": "python",
   "name": "python3"
  },
  "language_info": {
   "codemirror_mode": {
    "name": "ipython",
    "version": 3
   },
   "file_extension": ".py",
   "mimetype": "text/x-python",
   "name": "python",
   "nbconvert_exporter": "python",
   "pygments_lexer": "ipython3",
   "version": "3.7.5"
  }
 },
 "nbformat": 4,
 "nbformat_minor": 2
}
