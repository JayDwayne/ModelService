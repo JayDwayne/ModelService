{
 "cells": [
  {
   "cell_type": "code",
   "execution_count": 1,
   "metadata": {},
   "outputs": [],
   "source": [
    "import glob\n",
    "import redis\n",
    "import configparser\n",
    "from hashlib import sha256\n",
    "import json\n",
    "import yaml\n",
    "from pprint import pprint"
   ]
  },
  {
   "cell_type": "code",
   "execution_count": 2,
   "metadata": {},
   "outputs": [],
   "source": [
    "metadata_files = []\n",
    "for filename in glob.iglob('../' + '**/**model-metadata.yaml', recursive=True):\n",
    "     metadata_files.append(filename)"
   ]
  },
  {
   "cell_type": "code",
   "execution_count": 3,
   "metadata": {},
   "outputs": [
    {
     "name": "stdout",
     "output_type": "stream",
     "text": [
      "../Atlas-Integration/consumption-model-metadata.yaml\n",
      "../Atlas-Integration/asset-wealth-model-metadata.yaml\n",
      "../DSSAT-Integration/DSSAT-model-metadata.yaml\n",
      "../Kimetrica-Integration/population-model-metadata.yaml\n",
      "../Kimetrica-Integration/malnutrition-model-metadata.yaml\n",
      "../CHIRPS-Integration/CHIRPS-model-metadata.yaml\n",
      "../FSC-Integration/FSC-model-metadata.yaml\n"
     ]
    }
   ],
   "source": [
    "print(*metadata_files, sep = \"\\n\")"
   ]
  },
  {
   "cell_type": "code",
   "execution_count": 4,
   "metadata": {},
   "outputs": [],
   "source": [
    "config = configparser.ConfigParser()\n",
    "config.read('../REST-Server/config.ini')\n",
    "\n",
    "r = redis.Redis(host=config['REDIS']['HOST'],\n",
    "                port=config['REDIS']['PORT'],\n",
    "                db=config['REDIS']['DB'])"
   ]
  },
  {
   "cell_type": "code",
   "execution_count": 5,
   "metadata": {},
   "outputs": [],
   "source": [
    "models = {}\n",
    "\n",
    "for m in metadata_files:\n",
    "    with open(m, 'r') as stream:\n",
    "        model = yaml.safe_load(stream)\n",
    "        models[model['id']] = model"
   ]
  },
  {
   "cell_type": "code",
   "execution_count": 6,
   "metadata": {},
   "outputs": [],
   "source": [
    "concepts = {}\n",
    "\n",
    "# for each model\n",
    "for kk, vv in models.items():\n",
    "    \n",
    "    # get its concepts\n",
    "    for cc in vv.get('concepts',[]):\n",
    "        \n",
    "        # if concept not in concepts dict, add it\n",
    "        if cc not in concepts:\n",
    "            concepts[cc] = set()\n",
    "            concepts[cc].add(kk)\n",
    "            \n",
    "        # if concept in concepts, add model to set\n",
    "        else:\n",
    "            concepts[cc].add(kk)"
   ]
  },
  {
   "cell_type": "code",
   "execution_count": 7,
   "metadata": {
    "scrolled": true
   },
   "outputs": [
    {
     "name": "stdout",
     "output_type": "stream",
     "text": [
      "Concept mapping to models:\n",
      "{'GPE': {'population_model'},\n",
      " 'assets': {'consumption_model', 'asset_wealth_model'},\n",
      " 'climate': {'CHIRPS'},\n",
      " 'crop_storage': {'FSC', 'DSSAT'},\n",
      " 'drought': {'CHIRPS'},\n",
      " 'economy': {'consumption_model', 'FSC', 'asset_wealth_model'},\n",
      " 'export': {'FSC'},\n",
      " 'farming': {'DSSAT'},\n",
      " 'flooding': {'CHIRPS'},\n",
      " 'food_insecurity': {'malnutrition_model'},\n",
      " 'food_production': {'DSSAT'},\n",
      " 'food_security': {'malnutrition_model'},\n",
      " 'import': {'FSC'},\n",
      " 'inflation': {'consumption_model'},\n",
      " 'material': {'asset_wealth_model'},\n",
      " 'nutrient': {'malnutrition_model'},\n",
      " 'population': {'population_model'},\n",
      " 'poverty': {'consumption_model', 'asset_wealth_model'},\n",
      " 'precipitation': {'CHIRPS'},\n",
      " 'water': {'CHIRPS'}}\n"
     ]
    }
   ],
   "source": [
    "print(\"Concept mapping to models:\")\n",
    "pprint(concepts)"
   ]
  },
  {
   "cell_type": "code",
   "execution_count": 8,
   "metadata": {},
   "outputs": [],
   "source": [
    "concept_names = set(concepts.keys())"
   ]
  },
  {
   "cell_type": "code",
   "execution_count": 9,
   "metadata": {},
   "outputs": [],
   "source": [
    "# add concepts to \"concepts\" set in Redis\n",
    "for c in concept_names:\n",
    "    r.sadd('concepts', c)"
   ]
  },
  {
   "cell_type": "code",
   "execution_count": 10,
   "metadata": {},
   "outputs": [
    {
     "name": "stdout",
     "output_type": "stream",
     "text": [
      "We can obtain all concepts:\n",
      "{b'GPE',\n",
      " b'assets',\n",
      " b'climate',\n",
      " b'crop_storage',\n",
      " b'drought',\n",
      " b'economy',\n",
      " b'export',\n",
      " b'farming',\n",
      " b'flooding',\n",
      " b'food_insecurity',\n",
      " b'food_production',\n",
      " b'food_security',\n",
      " b'import',\n",
      " b'inflation',\n",
      " b'material',\n",
      " b'nutrient',\n",
      " b'population',\n",
      " b'poverty',\n",
      " b'precipitation',\n",
      " b'water'}\n"
     ]
    }
   ],
   "source": [
    "print(\"We can obtain all concepts:\")\n",
    "pprint(r.smembers('concepts'))"
   ]
  },
  {
   "cell_type": "code",
   "execution_count": 11,
   "metadata": {},
   "outputs": [],
   "source": [
    "#for each concept\n",
    "for cc, vv in concepts.items():\n",
    "    \n",
    "    # for each model associated with each concept\n",
    "    for ee in vv:\n",
    "        \n",
    "        # add the model to a Redis set named for the concept name\n",
    "        r.sadd(cc, ee)"
   ]
  },
  {
   "cell_type": "code",
   "execution_count": 12,
   "metadata": {},
   "outputs": [
    {
     "name": "stdout",
     "output_type": "stream",
     "text": [
      "We can obtain the models associated with 'economy', for example:\n",
      "{b'consumption_model', b'FSC', b'asset_wealth_model'}\n"
     ]
    }
   ],
   "source": [
    "print(\"We can obtain the models associated with 'economy', for example:\")\n",
    "pprint(r.smembers('economy'))"
   ]
  }
 ],
 "metadata": {
  "kernelspec": {
   "display_name": "Python 3",
   "language": "python",
   "name": "python3"
  },
  "language_info": {
   "codemirror_mode": {
    "name": "ipython",
    "version": 3
   },
   "file_extension": ".py",
   "mimetype": "text/x-python",
   "name": "python",
   "nbconvert_exporter": "python",
   "pygments_lexer": "ipython3",
   "version": "3.7.3"
  }
 },
 "nbformat": 4,
 "nbformat_minor": 2
}
