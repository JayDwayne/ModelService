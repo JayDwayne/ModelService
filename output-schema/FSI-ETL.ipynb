{
 "cells": [
  {
   "cell_type": "code",
   "execution_count": 1,
   "metadata": {},
   "outputs": [],
   "source": [
    "import geopandas as gpd\n",
    "from shapely.geometry import Point\n",
    "\n",
    "import netCDF4\n",
    "from netCDF4 import Dataset\n",
    "import datetime\n",
    "import pandas as pd\n",
    "import numpy as np"
   ]
  },
  {
   "cell_type": "code",
   "execution_count": 2,
   "metadata": {},
   "outputs": [],
   "source": [
    "features = {'days_medium': 'Number of days in the month with medium flooding (2-yr flood)',\n",
    "            'days_high': 'Number of days in the month with high flooding (5-yr flood)',\n",
    "            'days_severe': 'Number of days in the month with severe flooding (20-yr flood)'\n",
    "           }\n",
    "\n",
    "def days_medium(f):\n",
    "    if f==1:\n",
    "        return 1\n",
    "    else:\n",
    "        return 0\n",
    "    \n",
    "def days_high(f):\n",
    "    if f==2:\n",
    "        return 1\n",
    "    else:\n",
    "        return 0\n",
    "    \n",
    "def days_severe(f):\n",
    "    if f==3:\n",
    "        return 1\n",
    "    else:\n",
    "        return 0 \n",
    "    \n",
    "def convert_to_int(x):\n",
    "    try:\n",
    "        return int(float(x))\n",
    "    except:\n",
    "        return np.nan\n",
    "\n",
    "def format_date(day_of_year):\n",
    "    d = netCDF4.num2date(time_var[day_of_year],time_var.units)\n",
    "    year = d.year\n",
    "    month = d.month\n",
    "    day = d.day\n",
    "    return datetime.datetime(year=year, month=month, day=day)        \n",
    "\n",
    "def gen_monthly(file_name):\n",
    "    rootgrp = Dataset(file_name, \"r\", format=\"NETCDF4\")\n",
    "    time_var = rootgrp.variables['time']\n",
    "    days = len(rootgrp.variables['time'])\n",
    "    lats = len(rootgrp.variables['lat'])\n",
    "    lons = len(rootgrp.variables['lon'])\n",
    "\n",
    "    converted_dates = []\n",
    "\n",
    "    for day in range(days):\n",
    "        converted_dates.append(format_date(day))\n",
    "\n",
    "    cd = np.array(converted_dates)\n",
    "    time = np.repeat(cd[:, np.newaxis], lats, axis=1)\n",
    "    time = np.repeat(time[:,:, np.newaxis], lons, axis=2).flatten()\n",
    "    lat = np.repeat(rootgrp['lat'][:][np.newaxis, :], days, axis=0)\n",
    "    lat = np.repeat(lat[:,:,np.newaxis], lons, axis=2).flatten()\n",
    "    lon = np.repeat(rootgrp['lon'][:][np.newaxis, :], lats, axis = 0)\n",
    "    lon = np.repeat(lon[np.newaxis, :, :], days, axis=0).flatten()\n",
    "    flood = rootgrp['flood'][:].flatten()\n",
    "    out = np.vstack([time, lat.data, lon.data, flood.data]).transpose()\n",
    "    \n",
    "    df = pd.DataFrame(out, columns=['datetime','latitude','longitude','flood-index'])\n",
    "    df['flood-index'] = df['flood-index'].apply(lambda x: convert_to_int(x))\n",
    "    df['month'] = df.datetime.apply(lambda x: x.month)\n",
    "    df['year'] = df.datetime.apply(lambda x: x.year)\n",
    "    df['days_medium'] = df['flood-index'].apply(lambda x: days_medium(x))\n",
    "    df['days_high'] = df['flood-index'].apply(lambda x: days_high(x))\n",
    "    df['days_severe'] = df['flood-index'].apply(lambda x: days_severe(x))    \n",
    "    \n",
    "    monthly = pd.DataFrame(df.groupby(['year','month','latitude','longitude'])['days_medium','days_high','days_severe'].sum()).reset_index()\n",
    "    monthly['datetime'] = monthly.apply(lambda row: datetime.datetime(year=int(row['year']),month=int(row['month']),day=1), axis=1)\n",
    "    del(monthly['year'])\n",
    "    del(monthly['month'])\n",
    "    \n",
    "    return monthly"
   ]
  },
  {
   "cell_type": "code",
   "execution_count": 3,
   "metadata": {},
   "outputs": [],
   "source": [
    "rootgrp = Dataset(\"Flood_severity_index_sample.nc\", \"r\", format=\"NETCDF4\")\n",
    "time_var = rootgrp.variables['time']\n",
    "days = len(rootgrp.variables['time'])\n",
    "lats = len(rootgrp.variables['lat'])\n",
    "lons = len(rootgrp.variables['lon'])"
   ]
  },
  {
   "cell_type": "code",
   "execution_count": 4,
   "metadata": {},
   "outputs": [
    {
     "data": {
      "text/plain": [
       "<class 'netCDF4._netCDF4.Variable'>\n",
       "float64 flood(time, lat, lon)\n",
       "    _FillValue: nan\n",
       "    title: Flood level Severity (medium, high, and severe)\n",
       "    long_name: Flood Level Severity\n",
       "    units: unitless\n",
       "    valid_min: 0\n",
       "    valid_max: 3\n",
       "    missing_value: nan\n",
       "    standard_name: channel_water_flow__flood_volume-flux_severity_index\n",
       "unlimited dimensions: \n",
       "current shape = (365, 120, 250)\n",
       "filling on"
      ]
     },
     "execution_count": 4,
     "metadata": {},
     "output_type": "execute_result"
    }
   ],
   "source": [
    "rootgrp['flood']"
   ]
  },
  {
   "cell_type": "code",
   "execution_count": 5,
   "metadata": {},
   "outputs": [
    {
     "data": {
      "text/plain": [
       "<class 'netCDF4._netCDF4.Variable'>\n",
       "int64 time(time)\n",
       "    units: days since 2010-01-01 00:00:00\n",
       "    calendar: proleptic_gregorian\n",
       "unlimited dimensions: \n",
       "current shape = (365,)\n",
       "filling on, default _FillValue of -9223372036854775806 used"
      ]
     },
     "execution_count": 5,
     "metadata": {},
     "output_type": "execute_result"
    }
   ],
   "source": [
    "time_var"
   ]
  },
  {
   "cell_type": "code",
   "execution_count": 6,
   "metadata": {},
   "outputs": [
    {
     "data": {
      "text/plain": [
       "365"
      ]
     },
     "execution_count": 6,
     "metadata": {},
     "output_type": "execute_result"
    }
   ],
   "source": [
    "days"
   ]
  },
  {
   "cell_type": "code",
   "execution_count": 7,
   "metadata": {},
   "outputs": [
    {
     "data": {
      "text/plain": [
       "120"
      ]
     },
     "execution_count": 7,
     "metadata": {},
     "output_type": "execute_result"
    }
   ],
   "source": [
    "lats"
   ]
  },
  {
   "cell_type": "code",
   "execution_count": 8,
   "metadata": {},
   "outputs": [
    {
     "data": {
      "text/plain": [
       "250"
      ]
     },
     "execution_count": 8,
     "metadata": {},
     "output_type": "execute_result"
    }
   ],
   "source": [
    "lons"
   ]
  },
  {
   "cell_type": "code",
   "execution_count": null,
   "metadata": {},
   "outputs": [
    {
     "name": "stderr",
     "output_type": "stream",
     "text": [
      "/Users/brandonrose/opt/anaconda3/envs/modelservice/lib/python3.7/site-packages/ipykernel_launcher.py:56: RuntimeWarning: invalid value encountered in less\n",
      "/Users/brandonrose/opt/anaconda3/envs/modelservice/lib/python3.7/site-packages/ipykernel_launcher.py:56: RuntimeWarning: invalid value encountered in greater\n"
     ]
    }
   ],
   "source": [
    "monthly = gen_monthly('Flood_severity_index_sample.nc')"
   ]
  },
  {
   "cell_type": "code",
   "execution_count": null,
   "metadata": {},
   "outputs": [],
   "source": [
    "monthly[monthly['days_high']>0].head()"
   ]
  }
 ],
 "metadata": {
  "kernelspec": {
   "display_name": "Python 3",
   "language": "python",
   "name": "python3"
  },
  "language_info": {
   "codemirror_mode": {
    "name": "ipython",
    "version": 3
   },
   "file_extension": ".py",
   "mimetype": "text/x-python",
   "name": "python",
   "nbconvert_exporter": "python",
   "pygments_lexer": "ipython3",
   "version": "3.7.5"
  }
 },
 "nbformat": 4,
 "nbformat_minor": 2
}
