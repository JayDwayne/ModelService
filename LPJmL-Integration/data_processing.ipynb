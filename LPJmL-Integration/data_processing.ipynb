{
 "cells": [
  {
   "cell_type": "code",
   "execution_count": 11,
   "metadata": {},
   "outputs": [],
   "source": [
    "import numpy as np\n",
    "import pandas as pd\n",
    "\n",
    "def chunks(lst, n):\n",
    "    \"\"\"Yield successive n-sized chunks from lst.\"\"\"\n",
    "    for i in range(0, len(lst), n):\n",
    "        yield [float(x) for x in lst[i:i + n]]"
   ]
  },
  {
   "cell_type": "code",
   "execution_count": 12,
   "metadata": {},
   "outputs": [
    {
     "data": {
      "text/plain": [
       "True"
      ]
     },
     "execution_count": 12,
     "metadata": {},
     "output_type": "execute_result"
    }
   ],
   "source": [
    "grid = np.fromfile('grid.bin', dtype=np.short)\n",
    "pft = np.fromfile('pft_harvest.pft.bin', dtype=np.float32)        \n",
    "\n",
    "cells = list(chunks(grid, 2))\n",
    "\n",
    "harvests = list(chunks(pft,len(cells)))\n",
    "\n",
    "len(harvests) == 32*11"
   ]
  },
  {
   "cell_type": "code",
   "execution_count": 13,
   "metadata": {},
   "outputs": [
    {
     "data": {
      "text/plain": [
       "23731840"
      ]
     },
     "execution_count": 13,
     "metadata": {},
     "output_type": "execute_result"
    }
   ],
   "source": [
    "len(pft)"
   ]
  },
  {
   "cell_type": "code",
   "execution_count": 14,
   "metadata": {},
   "outputs": [
    {
     "data": {
      "text/plain": [
       "67420.0"
      ]
     },
     "execution_count": 14,
     "metadata": {},
     "output_type": "execute_result"
    }
   ],
   "source": [
    "len(pft)/32/11"
   ]
  },
  {
   "cell_type": "code",
   "execution_count": 15,
   "metadata": {},
   "outputs": [],
   "source": [
    "mgmt_types = ['rainfed','irrigated']\n",
    "\n",
    "crop_types = [\n",
    "    'Temperate cereals (wheat, rye, barley; wheat)',\n",
    "    'Rice (paddy rice; rice)',\n",
    "    'Maize (maize for food; maize)',\n",
    "    'Tropical cereals (millet, sorghum; millet)',\n",
    "    'Pulses (pulses; field peas)',\n",
    "    'Temperate roots (sugar beet; sugar beet)',\n",
    "    'Tropical roots (cassava; cassava)',\n",
    "    'Sunflower (sunflower; sunflower)',\n",
    "    'Soybean (soybean; soybean)',\n",
    "    'Groundnuts (groundnuts; groundnuts)',\n",
    "    'Rapeseed (rapeseed; rapeseed)',\n",
    "    'Sugarcane (sugarcane: sugarcane)',\n",
    "    'others (potatoes, oil palm, citrus, date palm, grapes/vine, cotton, cocoa, coffee, other perennial crops, other annual crops; managed grassland)',\n",
    "    'managed grasslands (pastures; managed grasslands)',\n",
    "    'bio-energy grass',\n",
    "    'bio-energy tree',\n",
    "]"
   ]
  },
  {
   "cell_type": "code",
   "execution_count": 16,
   "metadata": {},
   "outputs": [],
   "source": [
    "lats = [i[1]/100 for i in cells]\n",
    "lons = [i[0]/100 for i in cells]"
   ]
  },
  {
   "cell_type": "code",
   "execution_count": 17,
   "metadata": {},
   "outputs": [
    {
     "name": "stdout",
     "output_type": "stream",
     "text": [
      "0 rainfed Temperate cereals (wheat, rye, barley; wheat) 0\n",
      "0 rainfed Rice (paddy rice; rice) 1\n",
      "0 rainfed Maize (maize for food; maize) 2\n",
      "0 rainfed Tropical cereals (millet, sorghum; millet) 3\n",
      "0 rainfed Pulses (pulses; field peas) 4\n",
      "0 rainfed Temperate roots (sugar beet; sugar beet) 5\n",
      "0 rainfed Tropical roots (cassava; cassava) 6\n",
      "0 rainfed Sunflower (sunflower; sunflower) 7\n",
      "0 rainfed Soybean (soybean; soybean) 8\n",
      "0 rainfed Groundnuts (groundnuts; groundnuts) 9\n",
      "0 rainfed Rapeseed (rapeseed; rapeseed) 10\n",
      "0 rainfed Sugarcane (sugarcane: sugarcane) 11\n",
      "0 rainfed others (potatoes, oil palm, citrus, date palm, grapes/vine, cotton, cocoa, coffee, other perennial crops, other annual crops; managed grassland) 12\n",
      "0 rainfed managed grasslands (pastures; managed grasslands) 13\n",
      "0 rainfed bio-energy grass 14\n",
      "0 rainfed bio-energy tree 15\n",
      "0 irrigated Temperate cereals (wheat, rye, barley; wheat) 16\n",
      "0 irrigated Rice (paddy rice; rice) 17\n",
      "0 irrigated Maize (maize for food; maize) 18\n",
      "0 irrigated Tropical cereals (millet, sorghum; millet) 19\n",
      "0 irrigated Pulses (pulses; field peas) 20\n",
      "0 irrigated Temperate roots (sugar beet; sugar beet) 21\n",
      "0 irrigated Tropical roots (cassava; cassava) 22\n",
      "0 irrigated Sunflower (sunflower; sunflower) 23\n",
      "0 irrigated Soybean (soybean; soybean) 24\n",
      "0 irrigated Groundnuts (groundnuts; groundnuts) 25\n",
      "0 irrigated Rapeseed (rapeseed; rapeseed) 26\n",
      "0 irrigated Sugarcane (sugarcane: sugarcane) 27\n",
      "0 irrigated others (potatoes, oil palm, citrus, date palm, grapes/vine, cotton, cocoa, coffee, other perennial crops, other annual crops; managed grassland) 28\n",
      "0 irrigated managed grasslands (pastures; managed grasslands) 29\n",
      "0 irrigated bio-energy grass 30\n",
      "0 irrigated bio-energy tree 31\n",
      "1 rainfed Temperate cereals (wheat, rye, barley; wheat) 32\n",
      "1 rainfed Rice (paddy rice; rice) 33\n",
      "1 rainfed Maize (maize for food; maize) 34\n",
      "1 rainfed Tropical cereals (millet, sorghum; millet) 35\n",
      "1 rainfed Pulses (pulses; field peas) 36\n",
      "1 rainfed Temperate roots (sugar beet; sugar beet) 37\n",
      "1 rainfed Tropical roots (cassava; cassava) 38\n",
      "1 rainfed Sunflower (sunflower; sunflower) 39\n",
      "1 rainfed Soybean (soybean; soybean) 40\n",
      "1 rainfed Groundnuts (groundnuts; groundnuts) 41\n",
      "1 rainfed Rapeseed (rapeseed; rapeseed) 42\n",
      "1 rainfed Sugarcane (sugarcane: sugarcane) 43\n",
      "1 rainfed others (potatoes, oil palm, citrus, date palm, grapes/vine, cotton, cocoa, coffee, other perennial crops, other annual crops; managed grassland) 44\n",
      "1 rainfed managed grasslands (pastures; managed grasslands) 45\n",
      "1 rainfed bio-energy grass 46\n",
      "1 rainfed bio-energy tree 47\n",
      "1 irrigated Temperate cereals (wheat, rye, barley; wheat) 48\n",
      "1 irrigated Rice (paddy rice; rice) 49\n",
      "1 irrigated Maize (maize for food; maize) 50\n",
      "1 irrigated Tropical cereals (millet, sorghum; millet) 51\n",
      "1 irrigated Pulses (pulses; field peas) 52\n",
      "1 irrigated Temperate roots (sugar beet; sugar beet) 53\n",
      "1 irrigated Tropical roots (cassava; cassava) 54\n",
      "1 irrigated Sunflower (sunflower; sunflower) 55\n",
      "1 irrigated Soybean (soybean; soybean) 56\n",
      "1 irrigated Groundnuts (groundnuts; groundnuts) 57\n",
      "1 irrigated Rapeseed (rapeseed; rapeseed) 58\n",
      "1 irrigated Sugarcane (sugarcane: sugarcane) 59\n",
      "1 irrigated others (potatoes, oil palm, citrus, date palm, grapes/vine, cotton, cocoa, coffee, other perennial crops, other annual crops; managed grassland) 60\n",
      "1 irrigated managed grasslands (pastures; managed grasslands) 61\n",
      "1 irrigated bio-energy grass 62\n",
      "1 irrigated bio-energy tree 63\n",
      "2 rainfed Temperate cereals (wheat, rye, barley; wheat) 64\n",
      "2 rainfed Rice (paddy rice; rice) 65\n",
      "2 rainfed Maize (maize for food; maize) 66\n",
      "2 rainfed Tropical cereals (millet, sorghum; millet) 67\n",
      "2 rainfed Pulses (pulses; field peas) 68\n",
      "2 rainfed Temperate roots (sugar beet; sugar beet) 69\n",
      "2 rainfed Tropical roots (cassava; cassava) 70\n",
      "2 rainfed Sunflower (sunflower; sunflower) 71\n",
      "2 rainfed Soybean (soybean; soybean) 72\n",
      "2 rainfed Groundnuts (groundnuts; groundnuts) 73\n",
      "2 rainfed Rapeseed (rapeseed; rapeseed) 74\n",
      "2 rainfed Sugarcane (sugarcane: sugarcane) 75\n",
      "2 rainfed others (potatoes, oil palm, citrus, date palm, grapes/vine, cotton, cocoa, coffee, other perennial crops, other annual crops; managed grassland) 76\n",
      "2 rainfed managed grasslands (pastures; managed grasslands) 77\n",
      "2 rainfed bio-energy grass 78\n"
     ]
    },
    {
     "ename": "KeyboardInterrupt",
     "evalue": "",
     "output_type": "error",
     "traceback": [
      "\u001b[0;31m---------------------------------------------------------------------------\u001b[0m",
      "\u001b[0;31mKeyboardInterrupt\u001b[0m                         Traceback (most recent call last)",
      "\u001b[0;32m<ipython-input-17-1ec59152485c>\u001b[0m in \u001b[0;36m<module>\u001b[0;34m\u001b[0m\n\u001b[1;32m     10\u001b[0m             \u001b[0mdf\u001b[0m\u001b[0;34m[\u001b[0m\u001b[0;34m'lat'\u001b[0m\u001b[0;34m]\u001b[0m \u001b[0;34m=\u001b[0m \u001b[0mlats\u001b[0m\u001b[0;34m\u001b[0m\u001b[0;34m\u001b[0m\u001b[0m\n\u001b[1;32m     11\u001b[0m             \u001b[0mdf\u001b[0m\u001b[0;34m[\u001b[0m\u001b[0;34m'lon'\u001b[0m\u001b[0;34m]\u001b[0m \u001b[0;34m=\u001b[0m \u001b[0mlons\u001b[0m\u001b[0;34m\u001b[0m\u001b[0;34m\u001b[0m\u001b[0m\n\u001b[0;32m---> 12\u001b[0;31m             \u001b[0mdf\u001b[0m\u001b[0;34m.\u001b[0m\u001b[0mto_csv\u001b[0m\u001b[0;34m(\u001b[0m\u001b[0;34mf\"outputs/{year}_{mgmt}_{crop.replace('/','')}.csv\"\u001b[0m\u001b[0;34m,\u001b[0m \u001b[0mindex\u001b[0m\u001b[0;34m=\u001b[0m\u001b[0;32mFalse\u001b[0m\u001b[0;34m)\u001b[0m\u001b[0;34m\u001b[0m\u001b[0;34m\u001b[0m\u001b[0m\n\u001b[0m\u001b[1;32m     13\u001b[0m             \u001b[0mind\u001b[0m \u001b[0;34m+=\u001b[0m \u001b[0;36m1\u001b[0m\u001b[0;34m\u001b[0m\u001b[0;34m\u001b[0m\u001b[0m\n",
      "\u001b[0;32m/anaconda3/envs/geo/lib/python3.7/site-packages/pandas/core/generic.py\u001b[0m in \u001b[0;36mto_csv\u001b[0;34m(self, path_or_buf, sep, na_rep, float_format, columns, header, index, index_label, mode, encoding, compression, quoting, quotechar, line_terminator, chunksize, date_format, doublequote, escapechar, decimal)\u001b[0m\n\u001b[1;32m   3226\u001b[0m             \u001b[0mdecimal\u001b[0m\u001b[0;34m=\u001b[0m\u001b[0mdecimal\u001b[0m\u001b[0;34m,\u001b[0m\u001b[0;34m\u001b[0m\u001b[0;34m\u001b[0m\u001b[0m\n\u001b[1;32m   3227\u001b[0m         )\n\u001b[0;32m-> 3228\u001b[0;31m         \u001b[0mformatter\u001b[0m\u001b[0;34m.\u001b[0m\u001b[0msave\u001b[0m\u001b[0;34m(\u001b[0m\u001b[0;34m)\u001b[0m\u001b[0;34m\u001b[0m\u001b[0;34m\u001b[0m\u001b[0m\n\u001b[0m\u001b[1;32m   3229\u001b[0m \u001b[0;34m\u001b[0m\u001b[0m\n\u001b[1;32m   3230\u001b[0m         \u001b[0;32mif\u001b[0m \u001b[0mpath_or_buf\u001b[0m \u001b[0;32mis\u001b[0m \u001b[0;32mNone\u001b[0m\u001b[0;34m:\u001b[0m\u001b[0;34m\u001b[0m\u001b[0;34m\u001b[0m\u001b[0m\n",
      "\u001b[0;32m/anaconda3/envs/geo/lib/python3.7/site-packages/pandas/io/formats/csvs.py\u001b[0m in \u001b[0;36msave\u001b[0;34m(self)\u001b[0m\n\u001b[1;32m    200\u001b[0m                 \u001b[0mself\u001b[0m\u001b[0;34m.\u001b[0m\u001b[0mwriter\u001b[0m \u001b[0;34m=\u001b[0m \u001b[0mUnicodeWriter\u001b[0m\u001b[0;34m(\u001b[0m\u001b[0mf\u001b[0m\u001b[0;34m,\u001b[0m \u001b[0;34m**\u001b[0m\u001b[0mwriter_kwargs\u001b[0m\u001b[0;34m)\u001b[0m\u001b[0;34m\u001b[0m\u001b[0;34m\u001b[0m\u001b[0m\n\u001b[1;32m    201\u001b[0m \u001b[0;34m\u001b[0m\u001b[0m\n\u001b[0;32m--> 202\u001b[0;31m             \u001b[0mself\u001b[0m\u001b[0;34m.\u001b[0m\u001b[0m_save\u001b[0m\u001b[0;34m(\u001b[0m\u001b[0;34m)\u001b[0m\u001b[0;34m\u001b[0m\u001b[0;34m\u001b[0m\u001b[0m\n\u001b[0m\u001b[1;32m    203\u001b[0m \u001b[0;34m\u001b[0m\u001b[0m\n\u001b[1;32m    204\u001b[0m         \u001b[0;32mfinally\u001b[0m\u001b[0;34m:\u001b[0m\u001b[0;34m\u001b[0m\u001b[0;34m\u001b[0m\u001b[0m\n",
      "\u001b[0;32m/anaconda3/envs/geo/lib/python3.7/site-packages/pandas/io/formats/csvs.py\u001b[0m in \u001b[0;36m_save\u001b[0;34m(self)\u001b[0m\n\u001b[1;32m    322\u001b[0m                 \u001b[0;32mbreak\u001b[0m\u001b[0;34m\u001b[0m\u001b[0;34m\u001b[0m\u001b[0m\n\u001b[1;32m    323\u001b[0m \u001b[0;34m\u001b[0m\u001b[0m\n\u001b[0;32m--> 324\u001b[0;31m             \u001b[0mself\u001b[0m\u001b[0;34m.\u001b[0m\u001b[0m_save_chunk\u001b[0m\u001b[0;34m(\u001b[0m\u001b[0mstart_i\u001b[0m\u001b[0;34m,\u001b[0m \u001b[0mend_i\u001b[0m\u001b[0;34m)\u001b[0m\u001b[0;34m\u001b[0m\u001b[0;34m\u001b[0m\u001b[0m\n\u001b[0m\u001b[1;32m    325\u001b[0m \u001b[0;34m\u001b[0m\u001b[0m\n\u001b[1;32m    326\u001b[0m     \u001b[0;32mdef\u001b[0m \u001b[0m_save_chunk\u001b[0m\u001b[0;34m(\u001b[0m\u001b[0mself\u001b[0m\u001b[0;34m,\u001b[0m \u001b[0mstart_i\u001b[0m\u001b[0;34m,\u001b[0m \u001b[0mend_i\u001b[0m\u001b[0;34m)\u001b[0m\u001b[0;34m:\u001b[0m\u001b[0;34m\u001b[0m\u001b[0;34m\u001b[0m\u001b[0m\n",
      "\u001b[0;32m/anaconda3/envs/geo/lib/python3.7/site-packages/pandas/io/formats/csvs.py\u001b[0m in \u001b[0;36m_save_chunk\u001b[0;34m(self, start_i, end_i)\u001b[0m\n\u001b[1;32m    338\u001b[0m                 \u001b[0mdecimal\u001b[0m\u001b[0;34m=\u001b[0m\u001b[0mself\u001b[0m\u001b[0;34m.\u001b[0m\u001b[0mdecimal\u001b[0m\u001b[0;34m,\u001b[0m\u001b[0;34m\u001b[0m\u001b[0;34m\u001b[0m\u001b[0m\n\u001b[1;32m    339\u001b[0m                 \u001b[0mdate_format\u001b[0m\u001b[0;34m=\u001b[0m\u001b[0mself\u001b[0m\u001b[0;34m.\u001b[0m\u001b[0mdate_format\u001b[0m\u001b[0;34m,\u001b[0m\u001b[0;34m\u001b[0m\u001b[0;34m\u001b[0m\u001b[0m\n\u001b[0;32m--> 340\u001b[0;31m                 \u001b[0mquoting\u001b[0m\u001b[0;34m=\u001b[0m\u001b[0mself\u001b[0m\u001b[0;34m.\u001b[0m\u001b[0mquoting\u001b[0m\u001b[0;34m,\u001b[0m\u001b[0;34m\u001b[0m\u001b[0;34m\u001b[0m\u001b[0m\n\u001b[0m\u001b[1;32m    341\u001b[0m             )\n\u001b[1;32m    342\u001b[0m \u001b[0;34m\u001b[0m\u001b[0m\n",
      "\u001b[0;32m/anaconda3/envs/geo/lib/python3.7/site-packages/pandas/core/internals/blocks.py\u001b[0m in \u001b[0;36mto_native_types\u001b[0;34m(self, slicer, na_rep, float_format, decimal, quoting, **kwargs)\u001b[0m\n\u001b[1;32m   2130\u001b[0m \u001b[0;34m\u001b[0m\u001b[0m\n\u001b[1;32m   2131\u001b[0m             \u001b[0;32mif\u001b[0m \u001b[0;32mnot\u001b[0m \u001b[0mquoting\u001b[0m\u001b[0;34m:\u001b[0m\u001b[0;34m\u001b[0m\u001b[0;34m\u001b[0m\u001b[0m\n\u001b[0;32m-> 2132\u001b[0;31m                 \u001b[0mvalues\u001b[0m \u001b[0;34m=\u001b[0m \u001b[0mvalues\u001b[0m\u001b[0;34m.\u001b[0m\u001b[0mastype\u001b[0m\u001b[0;34m(\u001b[0m\u001b[0mstr\u001b[0m\u001b[0;34m)\u001b[0m\u001b[0;34m\u001b[0m\u001b[0;34m\u001b[0m\u001b[0m\n\u001b[0m\u001b[1;32m   2133\u001b[0m             \u001b[0;32melse\u001b[0m\u001b[0;34m:\u001b[0m\u001b[0;34m\u001b[0m\u001b[0;34m\u001b[0m\u001b[0m\n\u001b[1;32m   2134\u001b[0m                 \u001b[0mvalues\u001b[0m \u001b[0;34m=\u001b[0m \u001b[0mnp\u001b[0m\u001b[0;34m.\u001b[0m\u001b[0marray\u001b[0m\u001b[0;34m(\u001b[0m\u001b[0mvalues\u001b[0m\u001b[0;34m,\u001b[0m \u001b[0mdtype\u001b[0m\u001b[0;34m=\u001b[0m\u001b[0;34m\"object\"\u001b[0m\u001b[0;34m)\u001b[0m\u001b[0;34m\u001b[0m\u001b[0;34m\u001b[0m\u001b[0m\n",
      "\u001b[0;31mKeyboardInterrupt\u001b[0m: "
     ]
    }
   ],
   "source": [
    "ind = 0\n",
    "for year in range(0,11):\n",
    "    for mgmt in mgmt_types:\n",
    "        for crop in crop_types:\n",
    "            print(year, mgmt, crop, ind)\n",
    "            df = pd.DataFrame(harvests[ind], columns=['yield'])\n",
    "            df['year'] = year\n",
    "            df['mgmt'] = mgmt\n",
    "            df['crop'] = crop\n",
    "            df['lat'] = lats\n",
    "            df['lon'] = lons\n",
    "            df.to_csv(f\"outputs/{year}_{mgmt}_{crop.replace('/','')}.csv\", index=False)\n",
    "            ind += 1"
   ]
  },
  {
   "cell_type": "code",
   "execution_count": 208,
   "metadata": {},
   "outputs": [
    {
     "data": {
      "text/plain": [
       "(4854240, 6)"
      ]
     },
     "execution_count": 208,
     "metadata": {},
     "output_type": "execute_result"
    }
   ],
   "source": [
    "df_.shape"
   ]
  },
  {
   "cell_type": "code",
   "execution_count": 214,
   "metadata": {},
   "outputs": [],
   "source": [
    "df_.to_csv(\"processed_sample.csv\", index=False)"
   ]
  },
  {
   "cell_type": "code",
   "execution_count": 216,
   "metadata": {},
   "outputs": [
    {
     "data": {
      "text/plain": [
       "(23731840, 6)"
      ]
     },
     "execution_count": 216,
     "metadata": {},
     "output_type": "execute_result"
    }
   ],
   "source": [
    "df_.shape"
   ]
  },
  {
   "cell_type": "code",
   "execution_count": 215,
   "metadata": {},
   "outputs": [
    {
     "name": "stdout",
     "output_type": "stream",
     "text": [
      "total 3430184\r\n",
      "-rw-r--r--  1 brandon  staff    28K Dec 17 14:51 file_tests.ipynb\r\n",
      "-rw-r--r--@ 1 brandon  staff   263K Dec  3 10:34 grid.bin\r\n",
      "-rw-r--r--@ 1 brandon  staff    51B Dec 17 12:28 grid.descr\r\n",
      "-rw-r--r--@ 1 brandon  staff    91M Dec  3 10:34 pft_harvest.pft.bin\r\n",
      "-rw-r--r--@ 1 brandon  staff    69B Dec 17 12:31 pft_harvest.pft.descr\r\n",
      "-rw-r--r--  1 brandon  staff   1.5G Dec 17 14:52 processed_sample.csv\r\n"
     ]
    }
   ],
   "source": [
    "!ls -lh"
   ]
  },
  {
   "cell_type": "code",
   "execution_count": 207,
   "metadata": {},
   "outputs": [
    {
     "name": "stdout",
     "output_type": "stream",
     "text": [
      "datatype: float\r\n",
      "nbands: 32\r\n",
      "values: harvest in g carbon/m2\r\n",
      "nyears: 11\r\n"
     ]
    }
   ],
   "source": [
    "!cat pft_harvest.pft.descr"
   ]
  },
  {
   "cell_type": "code",
   "execution_count": 212,
   "metadata": {},
   "outputs": [],
   "source": [
    "sample = df_[\\\n",
    "            (df_['mgmt']=='irrigated') &\\\n",
    "            (df_['crop'] == 'Maize (maize for food; maize)') &\\\n",
    "            (df_['year'] == 7) \\\n",
    "           ]"
   ]
  },
  {
   "cell_type": "code",
   "execution_count": 213,
   "metadata": {},
   "outputs": [
    {
     "data": {
      "text/plain": [
       "32.29579906256864"
      ]
     },
     "execution_count": 213,
     "metadata": {},
     "output_type": "execute_result"
    }
   ],
   "source": [
    "sample['yield'].mean()"
   ]
  },
  {
   "cell_type": "code",
   "execution_count": null,
   "metadata": {},
   "outputs": [],
   "source": []
  }
 ],
 "metadata": {
  "kernelspec": {
   "display_name": "Python 3",
   "language": "python",
   "name": "python3"
  },
  "language_info": {
   "codemirror_mode": {
    "name": "ipython",
    "version": 3
   },
   "file_extension": ".py",
   "mimetype": "text/x-python",
   "name": "python",
   "nbconvert_exporter": "python",
   "pygments_lexer": "ipython3",
   "version": "3.7.3"
  }
 },
 "nbformat": 4,
 "nbformat_minor": 2
}
